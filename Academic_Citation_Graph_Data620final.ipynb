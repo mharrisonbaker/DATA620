{
  "nbformat": 4,
  "nbformat_minor": 0,
  "metadata": {
    "colab": {
      "name": "Academic_Citation_Graph_Data620final.ipynb",
      "provenance": [],
      "collapsed_sections": [],
      "mount_file_id": "13wgCPU7JwPXgbmaTm1186yi4sSgv-kVW",
      "authorship_tag": "ABX9TyObx8A1f5akYTVTIzWqqfGh",
      "include_colab_link": true
    },
    "kernelspec": {
      "name": "python3",
      "display_name": "Python 3"
    },
    "language_info": {
      "name": "python"
    }
  },
  "cells": [
    {
      "cell_type": "markdown",
      "metadata": {
        "id": "view-in-github",
        "colab_type": "text"
      },
      "source": [
        "<a href=\"https://colab.research.google.com/github/mharrisonbaker/DATA620/blob/main/Academic_Citation_Graph_Data620final.ipynb\" target=\"_parent\"><img src=\"https://colab.research.google.com/assets/colab-badge.svg\" alt=\"Open In Colab\"/></a>"
      ]
    },
    {
      "cell_type": "code",
      "metadata": {
        "colab": {
          "base_uri": "https://localhost:8080/"
        },
        "id": "-P1gRAAn6EvC",
        "outputId": "5c9fba73-5f63-43a5-ee18-76870fb12676"
      },
      "source": [
        "from google.colab import drive\n",
        "drive.flush_and_unmount()\n",
        "drive.mount('/content/drive')"
      ],
      "execution_count": 1,
      "outputs": [
        {
          "output_type": "stream",
          "text": [
            "Mounted at /content/drive\n"
          ],
          "name": "stdout"
        }
      ]
    },
    {
      "cell_type": "code",
      "metadata": {
        "colab": {
          "base_uri": "https://localhost:8080/"
        },
        "id": "1avQ2LWwNRC3",
        "outputId": "a47eb0f1-1f9d-45d0-a069-a8ef42c2847b"
      },
      "source": [
        "import nltk\n",
        "nltk.download('stopwords')"
      ],
      "execution_count": 2,
      "outputs": [
        {
          "output_type": "stream",
          "text": [
            "[nltk_data] Downloading package stopwords to /root/nltk_data...\n",
            "[nltk_data]   Package stopwords is already up-to-date!\n"
          ],
          "name": "stdout"
        },
        {
          "output_type": "execute_result",
          "data": {
            "text/plain": [
              "True"
            ]
          },
          "metadata": {
            "tags": []
          },
          "execution_count": 2
        }
      ]
    },
    {
      "cell_type": "code",
      "metadata": {
        "id": "W4-R6LzO9fP8"
      },
      "source": [
        "import json\n",
        "import pandas as pd\n",
        "import numpy as np\n",
        "import networkx as nx\n",
        "import string\n",
        "import re\n",
        "from nltk.corpus import stopwords\n",
        "from nltk.stem.snowball import SnowballStemmer\n",
        "from sklearn.feature_extraction.text import CountVectorizer\n",
        "from sklearn.feature_extraction.text import TfidfTransformer\n"
      ],
      "execution_count": 57,
      "outputs": []
    },
    {
      "cell_type": "code",
      "metadata": {
        "id": "zQxHLady9gJy"
      },
      "source": [
        "df = pd.read_json('/content/drive/MyDrive/academic_citation_v10/dblp-ref-3.json', lines=True)"
      ],
      "execution_count": 27,
      "outputs": []
    },
    {
      "cell_type": "code",
      "metadata": {
        "id": "GjYj6Q8cFOL2",
        "colab": {
          "base_uri": "https://localhost:8080/",
          "height": 529
        },
        "outputId": "2c03a528-5f40-4e84-fff5-004aeda0d3c9"
      },
      "source": [
        "df.head(10)"
      ],
      "execution_count": 5,
      "outputs": [
        {
          "output_type": "execute_result",
          "data": {
            "text/html": [
              "<div>\n",
              "<style scoped>\n",
              "    .dataframe tbody tr th:only-of-type {\n",
              "        vertical-align: middle;\n",
              "    }\n",
              "\n",
              "    .dataframe tbody tr th {\n",
              "        vertical-align: top;\n",
              "    }\n",
              "\n",
              "    .dataframe thead th {\n",
              "        text-align: right;\n",
              "    }\n",
              "</style>\n",
              "<table border=\"1\" class=\"dataframe\">\n",
              "  <thead>\n",
              "    <tr style=\"text-align: right;\">\n",
              "      <th></th>\n",
              "      <th>abstract</th>\n",
              "      <th>authors</th>\n",
              "      <th>n_citation</th>\n",
              "      <th>references</th>\n",
              "      <th>title</th>\n",
              "      <th>venue</th>\n",
              "      <th>year</th>\n",
              "      <th>id</th>\n",
              "    </tr>\n",
              "  </thead>\n",
              "  <tbody>\n",
              "    <tr>\n",
              "      <th>0</th>\n",
              "      <td>AdaBoost algorithm based on Haar-like features...</td>\n",
              "      <td>[Zheng Xu, Runbin Shi, Zhihao Sun, Yaqi Li, Yu...</td>\n",
              "      <td>0</td>\n",
              "      <td>[0a11984c-ab6e-4b75-9291-e1b700c98d52, 1f4152a...</td>\n",
              "      <td>A Heterogeneous System for Real-Time Detection...</td>\n",
              "      <td>high performance computing and communications</td>\n",
              "      <td>2016</td>\n",
              "      <td>001eef4f-1d00-4ae6-8b4f-7e66344bbc6e</td>\n",
              "    </tr>\n",
              "    <tr>\n",
              "      <th>1</th>\n",
              "      <td>In this paper, a kind of novel jigsaw EBG stru...</td>\n",
              "      <td>[Yufei Liang, Yan Zhang, Tao Dong, Shan-wei Lu]</td>\n",
              "      <td>0</td>\n",
              "      <td>[]</td>\n",
              "      <td>A novel conformal jigsaw EBG structure design</td>\n",
              "      <td>international conference on conceptual structures</td>\n",
              "      <td>2016</td>\n",
              "      <td>002e0b7e-d62f-4140-b015-1fe29a9acbaa</td>\n",
              "    </tr>\n",
              "    <tr>\n",
              "      <th>2</th>\n",
              "      <td>This paper studies the problem of using an aut...</td>\n",
              "      <td>[Xiaodong Ai, Keyou You, Shiji Song]</td>\n",
              "      <td>0</td>\n",
              "      <td>[1862a08a-08c6-4ab1-a214-8932bbd0d2d9, 7bcea2f...</td>\n",
              "      <td>A source-seeking strategy for an autonomous un...</td>\n",
              "      <td>international conference on control, automatio...</td>\n",
              "      <td>2016</td>\n",
              "      <td>00352759-f0a7-4678-82ae-fed68c700da6</td>\n",
              "    </tr>\n",
              "    <tr>\n",
              "      <th>3</th>\n",
              "      <td>NaN</td>\n",
              "      <td>[Francine Berman, Vinton G. Cerf]</td>\n",
              "      <td>0</td>\n",
              "      <td>[]</td>\n",
              "      <td>Social and ethical behavior in the internet of...</td>\n",
              "      <td>Communications of The ACM</td>\n",
              "      <td>2017</td>\n",
              "      <td>00f77fa9-ae49-4935-9166-2f5f9cdb3d6b</td>\n",
              "    </tr>\n",
              "    <tr>\n",
              "      <th>4</th>\n",
              "      <td>NaN</td>\n",
              "      <td>[Leon A. Sakkal, Kyle Z. Rajkowski, Roger S. A...</td>\n",
              "      <td>50</td>\n",
              "      <td>[4f4f200c-0764-4fef-9718-b8bccf303dba, aa699fb...</td>\n",
              "      <td>Prediction of consensus binding mode geometrie...</td>\n",
              "      <td>Journal of Computational Chemistry</td>\n",
              "      <td>2017</td>\n",
              "      <td>013ea675-bb58-42f8-a423-f5534546b2b1</td>\n",
              "    </tr>\n",
              "    <tr>\n",
              "      <th>5</th>\n",
              "      <td>NaN</td>\n",
              "      <td>[Nuno Moniz, Luís Torgo, João Vinagre]</td>\n",
              "      <td>0</td>\n",
              "      <td>NaN</td>\n",
              "      <td>Data-Driven Relevance Judgments for Ranking Ev...</td>\n",
              "      <td></td>\n",
              "      <td>2016</td>\n",
              "      <td>01413023-7ed6-4964-b7c8-19259f84a1db</td>\n",
              "    </tr>\n",
              "    <tr>\n",
              "      <th>6</th>\n",
              "      <td>This paper presents a methodology to analyze l...</td>\n",
              "      <td>[Vincent Buntinx, Cyril Bornet, Frédéric Kaplan]</td>\n",
              "      <td>0</td>\n",
              "      <td>[426b57a8-2e7d-498d-9a57-c09983ae0699, 6499d57...</td>\n",
              "      <td>Studying Linguistic Changes over 200 Years of ...</td>\n",
              "      <td>Frontiers in Digital Humanities</td>\n",
              "      <td>2017</td>\n",
              "      <td>01522369-3b88-4256-99d4-4e0c1de9f1ba</td>\n",
              "    </tr>\n",
              "    <tr>\n",
              "      <th>7</th>\n",
              "      <td>Boneh and Durfee (Eurocrypt 1999) proposed two...</td>\n",
              "      <td>[Atsushi Takayasu, Noboru Kunihiro]</td>\n",
              "      <td>0</td>\n",
              "      <td>NaN</td>\n",
              "      <td>Small secret exponent attacks on RSA with unba...</td>\n",
              "      <td>international symposium on information theory ...</td>\n",
              "      <td>2016</td>\n",
              "      <td>01537b60-9ae2-4684-a1fa-e688e7757e6f</td>\n",
              "    </tr>\n",
              "    <tr>\n",
              "      <th>8</th>\n",
              "      <td>Container identification and recognition is st...</td>\n",
              "      <td>[Ankit Verma, Monika Sharma, Ramya Hebbalagupp...</td>\n",
              "      <td>0</td>\n",
              "      <td>[3e3a4245-eb62-4769-bc84-1001479df701, 42f6b97...</td>\n",
              "      <td>Automatic Container Code Recognition via Spati...</td>\n",
              "      <td>international conference on machine learning a...</td>\n",
              "      <td>2016</td>\n",
              "      <td>017440d5-6ba8-422a-bd7a-d59e3b9a4e77</td>\n",
              "    </tr>\n",
              "    <tr>\n",
              "      <th>9</th>\n",
              "      <td>This paper analyzes the current active Medical...</td>\n",
              "      <td>[Elaine Vedrasco, Chidchanok Lursinsap]</td>\n",
              "      <td>0</td>\n",
              "      <td>[472b9486-b98a-4972-8252-b1eacbaf52a7, 572457c...</td>\n",
              "      <td>Effective solution for a medical tourism aggre...</td>\n",
              "      <td></td>\n",
              "      <td>2016</td>\n",
              "      <td>01dcc2e7-fda1-483d-9a5c-10e9cf985951</td>\n",
              "    </tr>\n",
              "  </tbody>\n",
              "</table>\n",
              "</div>"
            ],
            "text/plain": [
              "                                            abstract  ...                                    id\n",
              "0  AdaBoost algorithm based on Haar-like features...  ...  001eef4f-1d00-4ae6-8b4f-7e66344bbc6e\n",
              "1  In this paper, a kind of novel jigsaw EBG stru...  ...  002e0b7e-d62f-4140-b015-1fe29a9acbaa\n",
              "2  This paper studies the problem of using an aut...  ...  00352759-f0a7-4678-82ae-fed68c700da6\n",
              "3                                                NaN  ...  00f77fa9-ae49-4935-9166-2f5f9cdb3d6b\n",
              "4                                                NaN  ...  013ea675-bb58-42f8-a423-f5534546b2b1\n",
              "5                                                NaN  ...  01413023-7ed6-4964-b7c8-19259f84a1db\n",
              "6  This paper presents a methodology to analyze l...  ...  01522369-3b88-4256-99d4-4e0c1de9f1ba\n",
              "7  Boneh and Durfee (Eurocrypt 1999) proposed two...  ...  01537b60-9ae2-4684-a1fa-e688e7757e6f\n",
              "8  Container identification and recognition is st...  ...  017440d5-6ba8-422a-bd7a-d59e3b9a4e77\n",
              "9  This paper analyzes the current active Medical...  ...  01dcc2e7-fda1-483d-9a5c-10e9cf985951\n",
              "\n",
              "[10 rows x 8 columns]"
            ]
          },
          "metadata": {
            "tags": []
          },
          "execution_count": 5
        }
      ]
    },
    {
      "cell_type": "code",
      "metadata": {
        "id": "a2dr8dyKFT69",
        "colab": {
          "base_uri": "https://localhost:8080/",
          "height": 289
        },
        "outputId": "e1abad16-bddb-4590-91ae-c369dc8acdb4"
      },
      "source": [
        "#drop rows with NaN values \n",
        "df.dropna(axis=0, how='any', inplace=True)\n",
        "df.reset_index(drop=True, inplace=True)\n",
        "df.head()"
      ],
      "execution_count": 28,
      "outputs": [
        {
          "output_type": "execute_result",
          "data": {
            "text/html": [
              "<div>\n",
              "<style scoped>\n",
              "    .dataframe tbody tr th:only-of-type {\n",
              "        vertical-align: middle;\n",
              "    }\n",
              "\n",
              "    .dataframe tbody tr th {\n",
              "        vertical-align: top;\n",
              "    }\n",
              "\n",
              "    .dataframe thead th {\n",
              "        text-align: right;\n",
              "    }\n",
              "</style>\n",
              "<table border=\"1\" class=\"dataframe\">\n",
              "  <thead>\n",
              "    <tr style=\"text-align: right;\">\n",
              "      <th></th>\n",
              "      <th>abstract</th>\n",
              "      <th>authors</th>\n",
              "      <th>n_citation</th>\n",
              "      <th>references</th>\n",
              "      <th>title</th>\n",
              "      <th>venue</th>\n",
              "      <th>year</th>\n",
              "      <th>id</th>\n",
              "    </tr>\n",
              "  </thead>\n",
              "  <tbody>\n",
              "    <tr>\n",
              "      <th>0</th>\n",
              "      <td>AdaBoost algorithm based on Haar-like features...</td>\n",
              "      <td>[Zheng Xu, Runbin Shi, Zhihao Sun, Yaqi Li, Yu...</td>\n",
              "      <td>0</td>\n",
              "      <td>[0a11984c-ab6e-4b75-9291-e1b700c98d52, 1f4152a...</td>\n",
              "      <td>A Heterogeneous System for Real-Time Detection...</td>\n",
              "      <td>high performance computing and communications</td>\n",
              "      <td>2016</td>\n",
              "      <td>001eef4f-1d00-4ae6-8b4f-7e66344bbc6e</td>\n",
              "    </tr>\n",
              "    <tr>\n",
              "      <th>1</th>\n",
              "      <td>In this paper, a kind of novel jigsaw EBG stru...</td>\n",
              "      <td>[Yufei Liang, Yan Zhang, Tao Dong, Shan-wei Lu]</td>\n",
              "      <td>0</td>\n",
              "      <td>[]</td>\n",
              "      <td>A novel conformal jigsaw EBG structure design</td>\n",
              "      <td>international conference on conceptual structures</td>\n",
              "      <td>2016</td>\n",
              "      <td>002e0b7e-d62f-4140-b015-1fe29a9acbaa</td>\n",
              "    </tr>\n",
              "    <tr>\n",
              "      <th>2</th>\n",
              "      <td>This paper studies the problem of using an aut...</td>\n",
              "      <td>[Xiaodong Ai, Keyou You, Shiji Song]</td>\n",
              "      <td>0</td>\n",
              "      <td>[1862a08a-08c6-4ab1-a214-8932bbd0d2d9, 7bcea2f...</td>\n",
              "      <td>A source-seeking strategy for an autonomous un...</td>\n",
              "      <td>international conference on control, automatio...</td>\n",
              "      <td>2016</td>\n",
              "      <td>00352759-f0a7-4678-82ae-fed68c700da6</td>\n",
              "    </tr>\n",
              "    <tr>\n",
              "      <th>3</th>\n",
              "      <td>This paper presents a methodology to analyze l...</td>\n",
              "      <td>[Vincent Buntinx, Cyril Bornet, Frédéric Kaplan]</td>\n",
              "      <td>0</td>\n",
              "      <td>[426b57a8-2e7d-498d-9a57-c09983ae0699, 6499d57...</td>\n",
              "      <td>Studying Linguistic Changes over 200 Years of ...</td>\n",
              "      <td>Frontiers in Digital Humanities</td>\n",
              "      <td>2017</td>\n",
              "      <td>01522369-3b88-4256-99d4-4e0c1de9f1ba</td>\n",
              "    </tr>\n",
              "    <tr>\n",
              "      <th>4</th>\n",
              "      <td>Container identification and recognition is st...</td>\n",
              "      <td>[Ankit Verma, Monika Sharma, Ramya Hebbalagupp...</td>\n",
              "      <td>0</td>\n",
              "      <td>[3e3a4245-eb62-4769-bc84-1001479df701, 42f6b97...</td>\n",
              "      <td>Automatic Container Code Recognition via Spati...</td>\n",
              "      <td>international conference on machine learning a...</td>\n",
              "      <td>2016</td>\n",
              "      <td>017440d5-6ba8-422a-bd7a-d59e3b9a4e77</td>\n",
              "    </tr>\n",
              "  </tbody>\n",
              "</table>\n",
              "</div>"
            ],
            "text/plain": [
              "                                            abstract  ...                                    id\n",
              "0  AdaBoost algorithm based on Haar-like features...  ...  001eef4f-1d00-4ae6-8b4f-7e66344bbc6e\n",
              "1  In this paper, a kind of novel jigsaw EBG stru...  ...  002e0b7e-d62f-4140-b015-1fe29a9acbaa\n",
              "2  This paper studies the problem of using an aut...  ...  00352759-f0a7-4678-82ae-fed68c700da6\n",
              "3  This paper presents a methodology to analyze l...  ...  01522369-3b88-4256-99d4-4e0c1de9f1ba\n",
              "4  Container identification and recognition is st...  ...  017440d5-6ba8-422a-bd7a-d59e3b9a4e77\n",
              "\n",
              "[5 rows x 8 columns]"
            ]
          },
          "metadata": {
            "tags": []
          },
          "execution_count": 28
        }
      ]
    },
    {
      "cell_type": "code",
      "metadata": {
        "colab": {
          "base_uri": "https://localhost:8080/"
        },
        "id": "fXZZI5iTrJ3C",
        "outputId": "05d43be9-909a-4e85-bb64-f121b3ceb717"
      },
      "source": [
        "df.info()"
      ],
      "execution_count": 7,
      "outputs": [
        {
          "output_type": "stream",
          "text": [
            "<class 'pandas.core.frame.DataFrame'>\n",
            "RangeIndex: 35174 entries, 0 to 35173\n",
            "Data columns (total 8 columns):\n",
            " #   Column      Non-Null Count  Dtype \n",
            "---  ------      --------------  ----- \n",
            " 0   abstract    35174 non-null  object\n",
            " 1   authors     35174 non-null  object\n",
            " 2   n_citation  35174 non-null  int64 \n",
            " 3   references  35174 non-null  object\n",
            " 4   title       35174 non-null  object\n",
            " 5   venue       35174 non-null  object\n",
            " 6   year        35174 non-null  int64 \n",
            " 7   id          35174 non-null  object\n",
            "dtypes: int64(2), object(6)\n",
            "memory usage: 2.1+ MB\n"
          ],
          "name": "stdout"
        }
      ]
    },
    {
      "cell_type": "code",
      "metadata": {
        "id": "IixzB-s4Q5QT"
      },
      "source": [
        "#remove punctuation from abstract and title fields\n",
        "p = re.compile(r'[^\\w\\s]+')\n",
        "df['abstract'] = [p.sub('', x) for x in df['abstract'].tolist()]\n",
        "df['title'] = [p.sub('', x) for x in df['title'].tolist()]\n"
      ],
      "execution_count": 38,
      "outputs": []
    },
    {
      "cell_type": "code",
      "metadata": {
        "id": "R-2HCSwujWvW",
        "colab": {
          "base_uri": "https://localhost:8080/"
        },
        "outputId": "472de3dc-ed88-44bc-8b21-52e6c32f6100"
      },
      "source": [
        "df.info()"
      ],
      "execution_count": 39,
      "outputs": [
        {
          "output_type": "stream",
          "text": [
            "<class 'pandas.core.frame.DataFrame'>\n",
            "RangeIndex: 35174 entries, 0 to 35173\n",
            "Data columns (total 8 columns):\n",
            " #   Column      Non-Null Count  Dtype \n",
            "---  ------      --------------  ----- \n",
            " 0   abstract    35174 non-null  object\n",
            " 1   authors     35174 non-null  object\n",
            " 2   n_citation  35174 non-null  int64 \n",
            " 3   references  35174 non-null  object\n",
            " 4   title       35174 non-null  object\n",
            " 5   venue       35174 non-null  object\n",
            " 6   year        35174 non-null  int64 \n",
            " 7   id          35174 non-null  object\n",
            "dtypes: int64(2), object(6)\n",
            "memory usage: 2.1+ MB\n"
          ],
          "name": "stdout"
        }
      ]
    },
    {
      "cell_type": "code",
      "metadata": {
        "colab": {
          "base_uri": "https://localhost:8080/",
          "height": 562
        },
        "id": "LYKC2TDkssUR",
        "outputId": "d1440aa6-07b1-460b-93d7-17b84822d4d1"
      },
      "source": [
        "# #cast text to lowercase for purposes of tf-idf processing\n",
        "# df['abstract']=df['abstract'].str.lower()\n",
        "# df['title']=df['title'].str.lower()"
      ],
      "execution_count": 26,
      "outputs": [
        {
          "output_type": "error",
          "ename": "KeyError",
          "evalue": "ignored",
          "traceback": [
            "\u001b[0;31m---------------------------------------------------------------------------\u001b[0m",
            "\u001b[0;31mKeyError\u001b[0m                                  Traceback (most recent call last)",
            "\u001b[0;32m/usr/local/lib/python3.7/dist-packages/pandas/core/indexes/base.py\u001b[0m in \u001b[0;36mget_loc\u001b[0;34m(self, key, method, tolerance)\u001b[0m\n\u001b[1;32m   2897\u001b[0m             \u001b[0;32mtry\u001b[0m\u001b[0;34m:\u001b[0m\u001b[0;34m\u001b[0m\u001b[0;34m\u001b[0m\u001b[0m\n\u001b[0;32m-> 2898\u001b[0;31m                 \u001b[0;32mreturn\u001b[0m \u001b[0mself\u001b[0m\u001b[0;34m.\u001b[0m\u001b[0m_engine\u001b[0m\u001b[0;34m.\u001b[0m\u001b[0mget_loc\u001b[0m\u001b[0;34m(\u001b[0m\u001b[0mcasted_key\u001b[0m\u001b[0;34m)\u001b[0m\u001b[0;34m\u001b[0m\u001b[0;34m\u001b[0m\u001b[0m\n\u001b[0m\u001b[1;32m   2899\u001b[0m             \u001b[0;32mexcept\u001b[0m \u001b[0mKeyError\u001b[0m \u001b[0;32mas\u001b[0m \u001b[0merr\u001b[0m\u001b[0;34m:\u001b[0m\u001b[0;34m\u001b[0m\u001b[0;34m\u001b[0m\u001b[0m\n",
            "\u001b[0;32mpandas/_libs/index.pyx\u001b[0m in \u001b[0;36mpandas._libs.index.IndexEngine.get_loc\u001b[0;34m()\u001b[0m\n",
            "\u001b[0;32mpandas/_libs/index.pyx\u001b[0m in \u001b[0;36mpandas._libs.index.IndexEngine.get_loc\u001b[0;34m()\u001b[0m\n",
            "\u001b[0;32mpandas/_libs/hashtable_class_helper.pxi\u001b[0m in \u001b[0;36mpandas._libs.hashtable.PyObjectHashTable.get_item\u001b[0;34m()\u001b[0m\n",
            "\u001b[0;32mpandas/_libs/hashtable_class_helper.pxi\u001b[0m in \u001b[0;36mpandas._libs.hashtable.PyObjectHashTable.get_item\u001b[0;34m()\u001b[0m\n",
            "\u001b[0;31mKeyError\u001b[0m: 'abstract'",
            "\nThe above exception was the direct cause of the following exception:\n",
            "\u001b[0;31mKeyError\u001b[0m                                  Traceback (most recent call last)",
            "\u001b[0;32m<ipython-input-26-cec27756891c>\u001b[0m in \u001b[0;36m<module>\u001b[0;34m()\u001b[0m\n\u001b[1;32m      1\u001b[0m \u001b[0;31m#cast text to lowercase for purposes of tf-idf processing\u001b[0m\u001b[0;34m\u001b[0m\u001b[0;34m\u001b[0m\u001b[0;34m\u001b[0m\u001b[0m\n\u001b[0;32m----> 2\u001b[0;31m \u001b[0mdf\u001b[0m\u001b[0;34m[\u001b[0m\u001b[0;34m'abstract'\u001b[0m\u001b[0;34m]\u001b[0m\u001b[0;34m=\u001b[0m\u001b[0mdf\u001b[0m\u001b[0;34m[\u001b[0m\u001b[0;34m'abstract'\u001b[0m\u001b[0;34m]\u001b[0m\u001b[0;34m.\u001b[0m\u001b[0mstr\u001b[0m\u001b[0;34m.\u001b[0m\u001b[0mlower\u001b[0m\u001b[0;34m(\u001b[0m\u001b[0;34m)\u001b[0m\u001b[0;34m\u001b[0m\u001b[0;34m\u001b[0m\u001b[0m\n\u001b[0m\u001b[1;32m      3\u001b[0m \u001b[0mdf\u001b[0m\u001b[0;34m[\u001b[0m\u001b[0;34m'title'\u001b[0m\u001b[0;34m]\u001b[0m\u001b[0;34m=\u001b[0m\u001b[0mdf\u001b[0m\u001b[0;34m[\u001b[0m\u001b[0;34m'title'\u001b[0m\u001b[0;34m]\u001b[0m\u001b[0;34m.\u001b[0m\u001b[0mstr\u001b[0m\u001b[0;34m.\u001b[0m\u001b[0mlower\u001b[0m\u001b[0;34m(\u001b[0m\u001b[0;34m)\u001b[0m\u001b[0;34m\u001b[0m\u001b[0;34m\u001b[0m\u001b[0m\n",
            "\u001b[0;32m/usr/local/lib/python3.7/dist-packages/pandas/core/frame.py\u001b[0m in \u001b[0;36m__getitem__\u001b[0;34m(self, key)\u001b[0m\n\u001b[1;32m   2904\u001b[0m             \u001b[0;32mif\u001b[0m \u001b[0mself\u001b[0m\u001b[0;34m.\u001b[0m\u001b[0mcolumns\u001b[0m\u001b[0;34m.\u001b[0m\u001b[0mnlevels\u001b[0m \u001b[0;34m>\u001b[0m \u001b[0;36m1\u001b[0m\u001b[0;34m:\u001b[0m\u001b[0;34m\u001b[0m\u001b[0;34m\u001b[0m\u001b[0m\n\u001b[1;32m   2905\u001b[0m                 \u001b[0;32mreturn\u001b[0m \u001b[0mself\u001b[0m\u001b[0;34m.\u001b[0m\u001b[0m_getitem_multilevel\u001b[0m\u001b[0;34m(\u001b[0m\u001b[0mkey\u001b[0m\u001b[0;34m)\u001b[0m\u001b[0;34m\u001b[0m\u001b[0;34m\u001b[0m\u001b[0m\n\u001b[0;32m-> 2906\u001b[0;31m             \u001b[0mindexer\u001b[0m \u001b[0;34m=\u001b[0m \u001b[0mself\u001b[0m\u001b[0;34m.\u001b[0m\u001b[0mcolumns\u001b[0m\u001b[0;34m.\u001b[0m\u001b[0mget_loc\u001b[0m\u001b[0;34m(\u001b[0m\u001b[0mkey\u001b[0m\u001b[0;34m)\u001b[0m\u001b[0;34m\u001b[0m\u001b[0;34m\u001b[0m\u001b[0m\n\u001b[0m\u001b[1;32m   2907\u001b[0m             \u001b[0;32mif\u001b[0m \u001b[0mis_integer\u001b[0m\u001b[0;34m(\u001b[0m\u001b[0mindexer\u001b[0m\u001b[0;34m)\u001b[0m\u001b[0;34m:\u001b[0m\u001b[0;34m\u001b[0m\u001b[0;34m\u001b[0m\u001b[0m\n\u001b[1;32m   2908\u001b[0m                 \u001b[0mindexer\u001b[0m \u001b[0;34m=\u001b[0m \u001b[0;34m[\u001b[0m\u001b[0mindexer\u001b[0m\u001b[0;34m]\u001b[0m\u001b[0;34m\u001b[0m\u001b[0;34m\u001b[0m\u001b[0m\n",
            "\u001b[0;32m/usr/local/lib/python3.7/dist-packages/pandas/core/indexes/base.py\u001b[0m in \u001b[0;36mget_loc\u001b[0;34m(self, key, method, tolerance)\u001b[0m\n\u001b[1;32m   2898\u001b[0m                 \u001b[0;32mreturn\u001b[0m \u001b[0mself\u001b[0m\u001b[0;34m.\u001b[0m\u001b[0m_engine\u001b[0m\u001b[0;34m.\u001b[0m\u001b[0mget_loc\u001b[0m\u001b[0;34m(\u001b[0m\u001b[0mcasted_key\u001b[0m\u001b[0;34m)\u001b[0m\u001b[0;34m\u001b[0m\u001b[0;34m\u001b[0m\u001b[0m\n\u001b[1;32m   2899\u001b[0m             \u001b[0;32mexcept\u001b[0m \u001b[0mKeyError\u001b[0m \u001b[0;32mas\u001b[0m \u001b[0merr\u001b[0m\u001b[0;34m:\u001b[0m\u001b[0;34m\u001b[0m\u001b[0;34m\u001b[0m\u001b[0m\n\u001b[0;32m-> 2900\u001b[0;31m                 \u001b[0;32mraise\u001b[0m \u001b[0mKeyError\u001b[0m\u001b[0;34m(\u001b[0m\u001b[0mkey\u001b[0m\u001b[0;34m)\u001b[0m \u001b[0;32mfrom\u001b[0m \u001b[0merr\u001b[0m\u001b[0;34m\u001b[0m\u001b[0;34m\u001b[0m\u001b[0m\n\u001b[0m\u001b[1;32m   2901\u001b[0m \u001b[0;34m\u001b[0m\u001b[0m\n\u001b[1;32m   2902\u001b[0m         \u001b[0;32mif\u001b[0m \u001b[0mtolerance\u001b[0m \u001b[0;32mis\u001b[0m \u001b[0;32mnot\u001b[0m \u001b[0;32mNone\u001b[0m\u001b[0;34m:\u001b[0m\u001b[0;34m\u001b[0m\u001b[0;34m\u001b[0m\u001b[0m\n",
            "\u001b[0;31mKeyError\u001b[0m: 'abstract'"
          ]
        }
      ]
    },
    {
      "cell_type": "code",
      "metadata": {
        "id": "HzJXa81ItYke"
      },
      "source": [
        "df2=df.copy()"
      ],
      "execution_count": 32,
      "outputs": []
    },
    {
      "cell_type": "code",
      "metadata": {
        "colab": {
          "base_uri": "https://localhost:8080/",
          "height": 562
        },
        "id": "6aXtMT0KtTpQ",
        "outputId": "e627fcdc-a9eb-4056-dbd2-53e6d21a54d0"
      },
      "source": [
        "#combine text columns for tf-idf processing\n",
        "df2[\"text\"] = df[\"abstract\"] + df[\"title\"]\n",
        "del df2['abstract']\n",
        "del df2['title']\n"
      ],
      "execution_count": 41,
      "outputs": [
        {
          "output_type": "error",
          "ename": "KeyError",
          "evalue": "ignored",
          "traceback": [
            "\u001b[0;31m---------------------------------------------------------------------------\u001b[0m",
            "\u001b[0;31mKeyError\u001b[0m                                  Traceback (most recent call last)",
            "\u001b[0;32m/usr/local/lib/python3.7/dist-packages/pandas/core/indexes/base.py\u001b[0m in \u001b[0;36mget_loc\u001b[0;34m(self, key, method, tolerance)\u001b[0m\n\u001b[1;32m   2897\u001b[0m             \u001b[0;32mtry\u001b[0m\u001b[0;34m:\u001b[0m\u001b[0;34m\u001b[0m\u001b[0;34m\u001b[0m\u001b[0m\n\u001b[0;32m-> 2898\u001b[0;31m                 \u001b[0;32mreturn\u001b[0m \u001b[0mself\u001b[0m\u001b[0;34m.\u001b[0m\u001b[0m_engine\u001b[0m\u001b[0;34m.\u001b[0m\u001b[0mget_loc\u001b[0m\u001b[0;34m(\u001b[0m\u001b[0mcasted_key\u001b[0m\u001b[0;34m)\u001b[0m\u001b[0;34m\u001b[0m\u001b[0;34m\u001b[0m\u001b[0m\n\u001b[0m\u001b[1;32m   2899\u001b[0m             \u001b[0;32mexcept\u001b[0m \u001b[0mKeyError\u001b[0m \u001b[0;32mas\u001b[0m \u001b[0merr\u001b[0m\u001b[0;34m:\u001b[0m\u001b[0;34m\u001b[0m\u001b[0;34m\u001b[0m\u001b[0m\n",
            "\u001b[0;32mpandas/_libs/index.pyx\u001b[0m in \u001b[0;36mpandas._libs.index.IndexEngine.get_loc\u001b[0;34m()\u001b[0m\n",
            "\u001b[0;32mpandas/_libs/index.pyx\u001b[0m in \u001b[0;36mpandas._libs.index.IndexEngine.get_loc\u001b[0;34m()\u001b[0m\n",
            "\u001b[0;32mpandas/_libs/hashtable_class_helper.pxi\u001b[0m in \u001b[0;36mpandas._libs.hashtable.PyObjectHashTable.get_item\u001b[0;34m()\u001b[0m\n",
            "\u001b[0;32mpandas/_libs/hashtable_class_helper.pxi\u001b[0m in \u001b[0;36mpandas._libs.hashtable.PyObjectHashTable.get_item\u001b[0;34m()\u001b[0m\n",
            "\u001b[0;31mKeyError\u001b[0m: 'abstract'",
            "\nThe above exception was the direct cause of the following exception:\n",
            "\u001b[0;31mKeyError\u001b[0m                                  Traceback (most recent call last)",
            "\u001b[0;32m<ipython-input-41-23cec43b785f>\u001b[0m in \u001b[0;36m<module>\u001b[0;34m()\u001b[0m\n\u001b[1;32m      1\u001b[0m \u001b[0;31m#combine text columns for tf-idf processing\u001b[0m\u001b[0;34m\u001b[0m\u001b[0;34m\u001b[0m\u001b[0;34m\u001b[0m\u001b[0m\n\u001b[1;32m      2\u001b[0m \u001b[0mdf2\u001b[0m\u001b[0;34m[\u001b[0m\u001b[0;34m\"text\"\u001b[0m\u001b[0;34m]\u001b[0m \u001b[0;34m=\u001b[0m \u001b[0mdf\u001b[0m\u001b[0;34m[\u001b[0m\u001b[0;34m\"abstract\"\u001b[0m\u001b[0;34m]\u001b[0m \u001b[0;34m+\u001b[0m \u001b[0mdf\u001b[0m\u001b[0;34m[\u001b[0m\u001b[0;34m\"title\"\u001b[0m\u001b[0;34m]\u001b[0m\u001b[0;34m\u001b[0m\u001b[0;34m\u001b[0m\u001b[0m\n\u001b[0;32m----> 3\u001b[0;31m \u001b[0;32mdel\u001b[0m \u001b[0mdf2\u001b[0m\u001b[0;34m[\u001b[0m\u001b[0;34m'abstract'\u001b[0m\u001b[0;34m]\u001b[0m\u001b[0;34m\u001b[0m\u001b[0;34m\u001b[0m\u001b[0m\n\u001b[0m\u001b[1;32m      4\u001b[0m \u001b[0;32mdel\u001b[0m \u001b[0mdf2\u001b[0m\u001b[0;34m[\u001b[0m\u001b[0;34m'title'\u001b[0m\u001b[0;34m]\u001b[0m\u001b[0;34m\u001b[0m\u001b[0;34m\u001b[0m\u001b[0m\n\u001b[1;32m      5\u001b[0m \u001b[0mdf\u001b[0m\u001b[0;34m[\u001b[0m\u001b[0;34m'text'\u001b[0m\u001b[0;34m]\u001b[0m\u001b[0;34m=\u001b[0m \u001b[0mdf\u001b[0m\u001b[0;34m[\u001b[0m\u001b[0;34m'text'\u001b[0m\u001b[0;34m]\u001b[0m\u001b[0;34m.\u001b[0m\u001b[0mastype\u001b[0m\u001b[0;34m(\u001b[0m\u001b[0mstr\u001b[0m\u001b[0;34m)\u001b[0m\u001b[0;34m\u001b[0m\u001b[0;34m\u001b[0m\u001b[0m\n",
            "\u001b[0;32m/usr/local/lib/python3.7/dist-packages/pandas/core/generic.py\u001b[0m in \u001b[0;36m__delitem__\u001b[0;34m(self, key)\u001b[0m\n\u001b[1;32m   3711\u001b[0m             \u001b[0;31m# there was no match, this call should raise the appropriate\u001b[0m\u001b[0;34m\u001b[0m\u001b[0;34m\u001b[0m\u001b[0;34m\u001b[0m\u001b[0m\n\u001b[1;32m   3712\u001b[0m             \u001b[0;31m# exception:\u001b[0m\u001b[0;34m\u001b[0m\u001b[0;34m\u001b[0m\u001b[0;34m\u001b[0m\u001b[0m\n\u001b[0;32m-> 3713\u001b[0;31m             \u001b[0mloc\u001b[0m \u001b[0;34m=\u001b[0m \u001b[0mself\u001b[0m\u001b[0;34m.\u001b[0m\u001b[0maxes\u001b[0m\u001b[0;34m[\u001b[0m\u001b[0;34m-\u001b[0m\u001b[0;36m1\u001b[0m\u001b[0;34m]\u001b[0m\u001b[0;34m.\u001b[0m\u001b[0mget_loc\u001b[0m\u001b[0;34m(\u001b[0m\u001b[0mkey\u001b[0m\u001b[0;34m)\u001b[0m\u001b[0;34m\u001b[0m\u001b[0;34m\u001b[0m\u001b[0m\n\u001b[0m\u001b[1;32m   3714\u001b[0m             \u001b[0mself\u001b[0m\u001b[0;34m.\u001b[0m\u001b[0m_mgr\u001b[0m\u001b[0;34m.\u001b[0m\u001b[0midelete\u001b[0m\u001b[0;34m(\u001b[0m\u001b[0mloc\u001b[0m\u001b[0;34m)\u001b[0m\u001b[0;34m\u001b[0m\u001b[0;34m\u001b[0m\u001b[0m\n\u001b[1;32m   3715\u001b[0m \u001b[0;34m\u001b[0m\u001b[0m\n",
            "\u001b[0;32m/usr/local/lib/python3.7/dist-packages/pandas/core/indexes/base.py\u001b[0m in \u001b[0;36mget_loc\u001b[0;34m(self, key, method, tolerance)\u001b[0m\n\u001b[1;32m   2898\u001b[0m                 \u001b[0;32mreturn\u001b[0m \u001b[0mself\u001b[0m\u001b[0;34m.\u001b[0m\u001b[0m_engine\u001b[0m\u001b[0;34m.\u001b[0m\u001b[0mget_loc\u001b[0m\u001b[0;34m(\u001b[0m\u001b[0mcasted_key\u001b[0m\u001b[0;34m)\u001b[0m\u001b[0;34m\u001b[0m\u001b[0;34m\u001b[0m\u001b[0m\n\u001b[1;32m   2899\u001b[0m             \u001b[0;32mexcept\u001b[0m \u001b[0mKeyError\u001b[0m \u001b[0;32mas\u001b[0m \u001b[0merr\u001b[0m\u001b[0;34m:\u001b[0m\u001b[0;34m\u001b[0m\u001b[0;34m\u001b[0m\u001b[0m\n\u001b[0;32m-> 2900\u001b[0;31m                 \u001b[0;32mraise\u001b[0m \u001b[0mKeyError\u001b[0m\u001b[0;34m(\u001b[0m\u001b[0mkey\u001b[0m\u001b[0;34m)\u001b[0m \u001b[0;32mfrom\u001b[0m \u001b[0merr\u001b[0m\u001b[0;34m\u001b[0m\u001b[0;34m\u001b[0m\u001b[0m\n\u001b[0m\u001b[1;32m   2901\u001b[0m \u001b[0;34m\u001b[0m\u001b[0m\n\u001b[1;32m   2902\u001b[0m         \u001b[0;32mif\u001b[0m \u001b[0mtolerance\u001b[0m \u001b[0;32mis\u001b[0m \u001b[0;32mnot\u001b[0m \u001b[0;32mNone\u001b[0m\u001b[0;34m:\u001b[0m\u001b[0;34m\u001b[0m\u001b[0;34m\u001b[0m\u001b[0m\n",
            "\u001b[0;31mKeyError\u001b[0m: 'abstract'"
          ]
        }
      ]
    },
    {
      "cell_type": "code",
      "metadata": {
        "id": "XlklU-4gc5QR"
      },
      "source": [
        "df2['text']= df2['text'].astype(str)"
      ],
      "execution_count": 43,
      "outputs": []
    },
    {
      "cell_type": "code",
      "metadata": {
        "colab": {
          "base_uri": "https://localhost:8080/"
        },
        "id": "4WEb8WwAcee6",
        "outputId": "81edb84e-be8f-4514-d12c-62bce77fbb60"
      },
      "source": [
        "df2.info()"
      ],
      "execution_count": 44,
      "outputs": [
        {
          "output_type": "stream",
          "text": [
            "<class 'pandas.core.frame.DataFrame'>\n",
            "RangeIndex: 35174 entries, 0 to 35173\n",
            "Data columns (total 7 columns):\n",
            " #   Column      Non-Null Count  Dtype \n",
            "---  ------      --------------  ----- \n",
            " 0   authors     35174 non-null  object\n",
            " 1   n_citation  35174 non-null  int64 \n",
            " 2   references  35174 non-null  object\n",
            " 3   venue       35174 non-null  object\n",
            " 4   year        35174 non-null  int64 \n",
            " 5   id          35174 non-null  object\n",
            " 6   text        35174 non-null  object\n",
            "dtypes: int64(2), object(5)\n",
            "memory usage: 1.9+ MB\n"
          ],
          "name": "stdout"
        }
      ]
    },
    {
      "cell_type": "code",
      "metadata": {
        "id": "hXF84Ev4502A"
      },
      "source": [
        "#remove stop words from columns\n",
        "# stop = stopwords.words('english')\n",
        "# df2[\"text\"] = df2[\"text\"].apply(lambda x: ' '.join([word for word in x.split() if word not in (stop)]))"
      ],
      "execution_count": 13,
      "outputs": []
    },
    {
      "cell_type": "code",
      "metadata": {
        "id": "2isFryOLN8MK"
      },
      "source": [
        "stemmer = SnowballStemmer(\"english\")\n",
        "df2['stemmed'] = df2['text'].map(lambda x: ' '.join([stemmer.stem(y) for y in x.split(' ')]))"
      ],
      "execution_count": 47,
      "outputs": []
    },
    {
      "cell_type": "code",
      "metadata": {
        "colab": {
          "base_uri": "https://localhost:8080/"
        },
        "id": "I7dTnnY9SFh9",
        "outputId": "641aceb8-5430-46aa-e00c-5f307ac3a41a"
      },
      "source": [
        "cvec = CountVectorizer(stop_words='english', min_df=1, max_df=.5, ngram_range=(1,2))\n",
        "cvec"
      ],
      "execution_count": 48,
      "outputs": [
        {
          "output_type": "execute_result",
          "data": {
            "text/plain": [
              "CountVectorizer(analyzer='word', binary=False, decode_error='strict',\n",
              "                dtype=<class 'numpy.int64'>, encoding='utf-8', input='content',\n",
              "                lowercase=True, max_df=0.5, max_features=None, min_df=1,\n",
              "                ngram_range=(1, 2), preprocessor=None, stop_words='english',\n",
              "                strip_accents=None, token_pattern='(?u)\\\\b\\\\w\\\\w+\\\\b',\n",
              "                tokenizer=None, vocabulary=None)"
            ]
          },
          "metadata": {
            "tags": []
          },
          "execution_count": 48
        }
      ]
    },
    {
      "cell_type": "code",
      "metadata": {
        "colab": {
          "base_uri": "https://localhost:8080/"
        },
        "id": "6ueMi7f-agX6",
        "outputId": "57ca1cfd-65b0-4853-9542-649eeaa8ce12"
      },
      "source": [
        "# Calculate all the n-grams found in all documents\n",
        "from itertools import islice\n",
        "cvec.fit(df2.stemmed)\n",
        "list(islice(cvec.vocabulary_.items(), 20))"
      ],
      "execution_count": 49,
      "outputs": [
        {
          "output_type": "execute_result",
          "data": {
            "text/plain": [
              "[('adaboost', 62571),\n",
              " ('algorithm', 83929),\n",
              " ('base', 170204),\n",
              " ('haarlik', 679294),\n",
              " ('featur', 591501),\n",
              " ('achiev', 53951),\n",
              " ('high', 695198),\n",
              " ('accuraci', 51410),\n",
              " ('abov', 42523),\n",
              " ('95', 38531),\n",
              " ('object', 1019728),\n",
              " ('detect', 428468),\n",
              " ('meanwhil', 906146),\n",
              " ('massiv', 896095),\n",
              " ('comput', 308015),\n",
              " ('power', 1134346),\n",
              " ('need', 982725),\n",
              " ('implement', 732745),\n",
              " ('cascad', 229985),\n",
              " ('classifi', 265063)]"
            ]
          },
          "metadata": {
            "tags": []
          },
          "execution_count": 49
        }
      ]
    },
    {
      "cell_type": "code",
      "metadata": {
        "colab": {
          "base_uri": "https://localhost:8080/"
        },
        "id": "IJG8wgjbrP6q",
        "outputId": "83cc14ce-8141-4835-952b-12320860af35"
      },
      "source": [
        "len(cvec.vocabulary_)"
      ],
      "execution_count": 50,
      "outputs": [
        {
          "output_type": "execute_result",
          "data": {
            "text/plain": [
              "1671097"
            ]
          },
          "metadata": {
            "tags": []
          },
          "execution_count": 50
        }
      ]
    },
    {
      "cell_type": "code",
      "metadata": {
        "colab": {
          "base_uri": "https://localhost:8080/"
        },
        "id": "nkLFG8p8rTUS",
        "outputId": "d1a05220-5125-4983-f561-303fe0f4c412"
      },
      "source": [
        "cvec = CountVectorizer(stop_words='english', min_df=.003, max_df=.25, ngram_range=(1,2))\n",
        "cvec.fit(df2.stemmed)\n",
        "len(cvec.vocabulary_)"
      ],
      "execution_count": 66,
      "outputs": [
        {
          "output_type": "execute_result",
          "data": {
            "text/plain": [
              "3284"
            ]
          },
          "metadata": {
            "tags": []
          },
          "execution_count": 66
        }
      ]
    },
    {
      "cell_type": "code",
      "metadata": {
        "colab": {
          "base_uri": "https://localhost:8080/"
        },
        "id": "dW0bcjeJrfLi",
        "outputId": "948a14bd-c70b-4cff-f4c2-dc515fa91912"
      },
      "source": [
        "cvec_counts = cvec.transform(df2.stemmed)\n",
        "print ('sparse matrix shape:', cvec_counts.shape)\n",
        "print ('nonzero count:', cvec_counts.nnz)\n",
        "print ('sparsity: %.2f%%' % (100.0 * cvec_counts.nnz / (cvec_counts.shape[0] * cvec_counts.shape[1])))"
      ],
      "execution_count": 67,
      "outputs": [
        {
          "output_type": "stream",
          "text": [
            "sparse matrix shape: (35174, 3284)\n",
            "nonzero count: 1993480\n",
            "sparsity: 1.73%\n"
          ],
          "name": "stdout"
        }
      ]
    },
    {
      "cell_type": "code",
      "metadata": {
        "colab": {
          "base_uri": "https://localhost:8080/",
          "height": 669
        },
        "id": "sP1VRLldrrmh",
        "outputId": "0a0dd097-c09a-4889-88c2-bfb12a26e480"
      },
      "source": [
        "occ = np.asarray(cvec_counts.sum(axis=0)).ravel().tolist()\n",
        "counts_df = pd.DataFrame({'term': cvec.get_feature_names(), 'occurrences': occ})\n",
        "counts_df.sort_values(by='occurrences', ascending=False).head(20)"
      ],
      "execution_count": 68,
      "outputs": [
        {
          "output_type": "execute_result",
          "data": {
            "text/html": [
              "<div>\n",
              "<style scoped>\n",
              "    .dataframe tbody tr th:only-of-type {\n",
              "        vertical-align: middle;\n",
              "    }\n",
              "\n",
              "    .dataframe tbody tr th {\n",
              "        vertical-align: top;\n",
              "    }\n",
              "\n",
              "    .dataframe thead th {\n",
              "        text-align: right;\n",
              "    }\n",
              "</style>\n",
              "<table border=\"1\" class=\"dataframe\">\n",
              "  <thead>\n",
              "    <tr style=\"text-align: right;\">\n",
              "      <th></th>\n",
              "      <th>term</th>\n",
              "      <th>occurrences</th>\n",
              "    </tr>\n",
              "  </thead>\n",
              "  <tbody>\n",
              "    <tr>\n",
              "      <th>1900</th>\n",
              "      <td>network</td>\n",
              "      <td>23123</td>\n",
              "    </tr>\n",
              "    <tr>\n",
              "      <th>2266</th>\n",
              "      <td>problem</td>\n",
              "      <td>15643</td>\n",
              "    </tr>\n",
              "    <tr>\n",
              "      <th>823</th>\n",
              "      <td>differ</td>\n",
              "      <td>13065</td>\n",
              "    </tr>\n",
              "    <tr>\n",
              "      <th>1428</th>\n",
              "      <td>inform</td>\n",
              "      <td>12925</td>\n",
              "    </tr>\n",
              "    <tr>\n",
              "      <th>2998</th>\n",
              "      <td>time</td>\n",
              "      <td>12884</td>\n",
              "    </tr>\n",
              "    <tr>\n",
              "      <th>560</th>\n",
              "      <td>comput</td>\n",
              "      <td>12612</td>\n",
              "    </tr>\n",
              "    <tr>\n",
              "      <th>783</th>\n",
              "      <td>design</td>\n",
              "      <td>12481</td>\n",
              "    </tr>\n",
              "    <tr>\n",
              "      <th>3149</th>\n",
              "      <td>user</td>\n",
              "      <td>11992</td>\n",
              "    </tr>\n",
              "    <tr>\n",
              "      <th>1359</th>\n",
              "      <td>imag</td>\n",
              "      <td>11900</td>\n",
              "    </tr>\n",
              "    <tr>\n",
              "      <th>2004</th>\n",
              "      <td>optim</td>\n",
              "      <td>11564</td>\n",
              "    </tr>\n",
              "    <tr>\n",
              "      <th>204</th>\n",
              "      <td>applic</td>\n",
              "      <td>11459</td>\n",
              "    </tr>\n",
              "    <tr>\n",
              "      <th>2275</th>\n",
              "      <td>process</td>\n",
              "      <td>11421</td>\n",
              "    </tr>\n",
              "    <tr>\n",
              "      <th>913</th>\n",
              "      <td>effect</td>\n",
              "      <td>10886</td>\n",
              "    </tr>\n",
              "    <tr>\n",
              "      <th>804</th>\n",
              "      <td>develop</td>\n",
              "      <td>10879</td>\n",
              "    </tr>\n",
              "    <tr>\n",
              "      <th>168</th>\n",
              "      <td>analysi</td>\n",
              "      <td>10804</td>\n",
              "    </tr>\n",
              "    <tr>\n",
              "      <th>622</th>\n",
              "      <td>control</td>\n",
              "      <td>10759</td>\n",
              "    </tr>\n",
              "    <tr>\n",
              "      <th>1564</th>\n",
              "      <td>learn</td>\n",
              "      <td>10534</td>\n",
              "    </tr>\n",
              "    <tr>\n",
              "      <th>1386</th>\n",
              "      <td>improv</td>\n",
              "      <td>10222</td>\n",
              "    </tr>\n",
              "    <tr>\n",
              "      <th>1117</th>\n",
              "      <td>featur</td>\n",
              "      <td>10075</td>\n",
              "    </tr>\n",
              "    <tr>\n",
              "      <th>793</th>\n",
              "      <td>detect</td>\n",
              "      <td>10070</td>\n",
              "    </tr>\n",
              "  </tbody>\n",
              "</table>\n",
              "</div>"
            ],
            "text/plain": [
              "         term  occurrences\n",
              "1900  network        23123\n",
              "2266  problem        15643\n",
              "823    differ        13065\n",
              "1428   inform        12925\n",
              "2998     time        12884\n",
              "560    comput        12612\n",
              "783    design        12481\n",
              "3149     user        11992\n",
              "1359     imag        11900\n",
              "2004    optim        11564\n",
              "204    applic        11459\n",
              "2275  process        11421\n",
              "913    effect        10886\n",
              "804   develop        10879\n",
              "168   analysi        10804\n",
              "622   control        10759\n",
              "1564    learn        10534\n",
              "1386   improv        10222\n",
              "1117   featur        10075\n",
              "793    detect        10070"
            ]
          },
          "metadata": {
            "tags": []
          },
          "execution_count": 68
        }
      ]
    },
    {
      "cell_type": "code",
      "metadata": {
        "colab": {
          "base_uri": "https://localhost:8080/"
        },
        "id": "erXddHgfsgks",
        "outputId": "9126ec5c-4259-4b7f-a5e7-598e7de8ebab"
      },
      "source": [
        "transformer = TfidfTransformer()\n",
        "transformed_weights = transformer.fit_transform(cvec_counts)\n",
        "transformed_weights"
      ],
      "execution_count": 69,
      "outputs": [
        {
          "output_type": "execute_result",
          "data": {
            "text/plain": [
              "<35174x3284 sparse matrix of type '<class 'numpy.float64'>'\n",
              "\twith 1993480 stored elements in Compressed Sparse Row format>"
            ]
          },
          "metadata": {
            "tags": []
          },
          "execution_count": 69
        }
      ]
    },
    {
      "cell_type": "code",
      "metadata": {
        "colab": {
          "base_uri": "https://localhost:8080/",
          "height": 669
        },
        "id": "KUGaoUpqszQM",
        "outputId": "956afc48-6318-439e-9c2c-3a1fc97ca9f6"
      },
      "source": [
        "weights = np.asarray(transformed_weights.mean(axis=0)).ravel().tolist()\n",
        "weights_df = pd.DataFrame({'term': cvec.get_feature_names(), 'weight': weights})\n",
        "weights_df.sort_values(by='weight', ascending=False).head(20)"
      ],
      "execution_count": 70,
      "outputs": [
        {
          "output_type": "execute_result",
          "data": {
            "text/html": [
              "<div>\n",
              "<style scoped>\n",
              "    .dataframe tbody tr th:only-of-type {\n",
              "        vertical-align: middle;\n",
              "    }\n",
              "\n",
              "    .dataframe tbody tr th {\n",
              "        vertical-align: top;\n",
              "    }\n",
              "\n",
              "    .dataframe thead th {\n",
              "        text-align: right;\n",
              "    }\n",
              "</style>\n",
              "<table border=\"1\" class=\"dataframe\">\n",
              "  <thead>\n",
              "    <tr style=\"text-align: right;\">\n",
              "      <th></th>\n",
              "      <th>term</th>\n",
              "      <th>weight</th>\n",
              "    </tr>\n",
              "  </thead>\n",
              "  <tbody>\n",
              "    <tr>\n",
              "      <th>1900</th>\n",
              "      <td>network</td>\n",
              "      <td>0.026550</td>\n",
              "    </tr>\n",
              "    <tr>\n",
              "      <th>2266</th>\n",
              "      <td>problem</td>\n",
              "      <td>0.018491</td>\n",
              "    </tr>\n",
              "    <tr>\n",
              "      <th>1359</th>\n",
              "      <td>imag</td>\n",
              "      <td>0.017529</td>\n",
              "    </tr>\n",
              "    <tr>\n",
              "      <th>622</th>\n",
              "      <td>control</td>\n",
              "      <td>0.016351</td>\n",
              "    </tr>\n",
              "    <tr>\n",
              "      <th>3149</th>\n",
              "      <td>user</td>\n",
              "      <td>0.016093</td>\n",
              "    </tr>\n",
              "    <tr>\n",
              "      <th>783</th>\n",
              "      <td>design</td>\n",
              "      <td>0.015851</td>\n",
              "    </tr>\n",
              "    <tr>\n",
              "      <th>560</th>\n",
              "      <td>comput</td>\n",
              "      <td>0.015814</td>\n",
              "    </tr>\n",
              "    <tr>\n",
              "      <th>1428</th>\n",
              "      <td>inform</td>\n",
              "      <td>0.015417</td>\n",
              "    </tr>\n",
              "    <tr>\n",
              "      <th>2004</th>\n",
              "      <td>optim</td>\n",
              "      <td>0.015345</td>\n",
              "    </tr>\n",
              "    <tr>\n",
              "      <th>2998</th>\n",
              "      <td>time</td>\n",
              "      <td>0.015192</td>\n",
              "    </tr>\n",
              "    <tr>\n",
              "      <th>1564</th>\n",
              "      <td>learn</td>\n",
              "      <td>0.015089</td>\n",
              "    </tr>\n",
              "    <tr>\n",
              "      <th>793</th>\n",
              "      <td>detect</td>\n",
              "      <td>0.014639</td>\n",
              "    </tr>\n",
              "    <tr>\n",
              "      <th>823</th>\n",
              "      <td>differ</td>\n",
              "      <td>0.014445</td>\n",
              "    </tr>\n",
              "    <tr>\n",
              "      <th>204</th>\n",
              "      <td>applic</td>\n",
              "      <td>0.014272</td>\n",
              "    </tr>\n",
              "    <tr>\n",
              "      <th>2275</th>\n",
              "      <td>process</td>\n",
              "      <td>0.014237</td>\n",
              "    </tr>\n",
              "    <tr>\n",
              "      <th>1117</th>\n",
              "      <td>featur</td>\n",
              "      <td>0.013748</td>\n",
              "    </tr>\n",
              "    <tr>\n",
              "      <th>168</th>\n",
              "      <td>analysi</td>\n",
              "      <td>0.013648</td>\n",
              "    </tr>\n",
              "    <tr>\n",
              "      <th>804</th>\n",
              "      <td>develop</td>\n",
              "      <td>0.013214</td>\n",
              "    </tr>\n",
              "    <tr>\n",
              "      <th>1000</th>\n",
              "      <td>estim</td>\n",
              "      <td>0.013003</td>\n",
              "    </tr>\n",
              "    <tr>\n",
              "      <th>1924</th>\n",
              "      <td>new</td>\n",
              "      <td>0.012659</td>\n",
              "    </tr>\n",
              "  </tbody>\n",
              "</table>\n",
              "</div>"
            ],
            "text/plain": [
              "         term    weight\n",
              "1900  network  0.026550\n",
              "2266  problem  0.018491\n",
              "1359     imag  0.017529\n",
              "622   control  0.016351\n",
              "3149     user  0.016093\n",
              "783    design  0.015851\n",
              "560    comput  0.015814\n",
              "1428   inform  0.015417\n",
              "2004    optim  0.015345\n",
              "2998     time  0.015192\n",
              "1564    learn  0.015089\n",
              "793    detect  0.014639\n",
              "823    differ  0.014445\n",
              "204    applic  0.014272\n",
              "2275  process  0.014237\n",
              "1117   featur  0.013748\n",
              "168   analysi  0.013648\n",
              "804   develop  0.013214\n",
              "1000    estim  0.013003\n",
              "1924      new  0.012659"
            ]
          },
          "metadata": {
            "tags": []
          },
          "execution_count": 70
        }
      ]
    },
    {
      "cell_type": "code",
      "metadata": {
        "id": "rx1OzBlYr7oe"
      },
      "source": [
        "df2.head()"
      ],
      "execution_count": null,
      "outputs": []
    },
    {
      "cell_type": "code",
      "metadata": {
        "id": "kWznI5g0F8Wj"
      },
      "source": [
        "#modify df into only source and targets to build graph\n",
        "#df2 = df['id', 'references']\n",
        "G = nx.from_pandas_edgelist(df2, source='id', target)"
      ],
      "execution_count": null,
      "outputs": []
    },
    {
      "cell_type": "code",
      "metadata": {
        "id": "wLKkHUrgGiVM"
      },
      "source": [
        ""
      ],
      "execution_count": null,
      "outputs": []
    }
  ]
}