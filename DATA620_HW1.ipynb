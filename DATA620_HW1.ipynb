{
  "nbformat": 4,
  "nbformat_minor": 0,
  "metadata": {
    "colab": {
      "name": "DATA620_HW1.ipynb",
      "provenance": [],
      "collapsed_sections": [],
      "include_colab_link": true
    },
    "kernelspec": {
      "name": "python3",
      "display_name": "Python 3"
    },
    "language_info": {
      "name": "python"
    }
  },
  "cells": [
    {
      "cell_type": "markdown",
      "metadata": {
        "id": "view-in-github",
        "colab_type": "text"
      },
      "source": [
        "<a href=\"https://colab.research.google.com/github/mharrisonbaker/DATA620/blob/main/DATA620_HW1.ipynb\" target=\"_parent\"><img src=\"https://colab.research.google.com/assets/colab-badge.svg\" alt=\"Open In Colab\"/></a>"
      ]
    },
    {
      "cell_type": "markdown",
      "metadata": {
        "id": "YN3A8vaCzAtC"
      },
      "source": [
        "## Matthew Baker\n",
        "## DATA 620 HW 1\n"
      ]
    },
    {
      "cell_type": "code",
      "metadata": {
        "colab": {
          "base_uri": "https://localhost:8080/"
        },
        "id": "lWyG5_XKt4tb",
        "outputId": "c1b9e470-a8a1-4d65-aa96-d5e91fe321e0"
      },
      "source": [
        "!pip uninstall networkx -y &> /dev/null\n",
        "!pip install  networkx==1.11 &> /dev/null\n",
        "import networkx as nx\n",
        "print(nx.__version__)"
      ],
      "execution_count": null,
      "outputs": [
        {
          "output_type": "stream",
          "text": [
            "1.11\n"
          ],
          "name": "stdout"
        }
      ]
    },
    {
      "cell_type": "code",
      "metadata": {
        "id": "YRC0eAxuu2WN"
      },
      "source": [
        "!pip uninstall matplotlib -y &> /dev/null\n",
        "!pip install matplotlib==2.2.3 &> /dev/null\n",
        "import matplotlib.pyplot as plt"
      ],
      "execution_count": null,
      "outputs": []
    },
    {
      "cell_type": "code",
      "metadata": {
        "id": "bzLB_E_Dv3KN"
      },
      "source": [
        "import warnings\n",
        "warnings.filterwarnings('ignore')"
      ],
      "execution_count": null,
      "outputs": []
    },
    {
      "cell_type": "code",
      "metadata": {
        "colab": {
          "base_uri": "https://localhost:8080/",
          "height": 286
        },
        "id": "TEyNdrLPuHNf",
        "outputId": "74626ca7-1906-4749-8345-d0d363630b86"
      },
      "source": [
        "#create graph\n",
        "G=nx.krackhardt_kite_graph()\n",
        "\n",
        "#positions for all nodes, layout ensures they will be nicely distributed\n",
        "pos=nx.spring_layout(G)\n",
        "\n",
        "#draw nodes and edges\n",
        "nx.draw_networkx_nodes(G, pos)\n",
        "nx.draw_networkx_edges(G, pos)\n",
        "\n",
        "# names labels\n",
        "labels = {}\n",
        "labels[0] = r\"$Andre$\"\n",
        "labels[1] = r\"$Beverly$\"\n",
        "labels[2] = r\"$Carol$\"\n",
        "labels[3] = r\"$Diane$\"\n",
        "labels[4] = r\"$Ed$\"\n",
        "labels[5] = r\"$Fernando$\"\n",
        "labels[6] = r\"$Garth\"\n",
        "labels[7] = r\"$Heather$\"\n",
        "labels[8] = r\"$Ike$\"\n",
        "labels[9] = r\"$Jane$\"\n",
        "#add labels to nodes\n",
        "nx.draw_networkx_labels(g, pos, labels) \n",
        "\n",
        "plt.axis(\"off\")\n",
        "plt.title(\"Krackhardt Kite Graph\", fontsize=20)\n",
        "plt.show()"
      ],
      "execution_count": null,
      "outputs": [
        {
          "output_type": "display_data",
          "data": {
            "image/png": "[encoded data removed]",
            "text/plain": [
              "<Figure size 432x288 with 1 Axes>"
            ]
          },
          "metadata": {
            "tags": [],
            "needs_background": "light"
          }
        }
      ]
    },
    {
      "cell_type": "code",
      "metadata": {
        "id": "GttV_8HWzvG5"
      },
      "source": [
        ""
      ],
      "execution_count": null,
      "outputs": []
    }
  ]
}