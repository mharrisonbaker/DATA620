{
 "cells": [
  {
   "cell_type": "markdown",
   "metadata": {},
   "source": [
    "# Project 1"
   ]
  },
  {
   "cell_type": "markdown",
   "metadata": {},
   "source": [
    "Group Member: Bryan Persaud, Matthew Baker, Zhi Ying Chen\n",
    "\n",
    "For your first project, you are asked to\n",
    "\n",
    "1. Identify and load a network dataset that has some categorical information available for each node.\n",
    "\n",
    "2. For each of the nodes in the dataset, calculate degree centrality and eigenvector centrality.\n",
    "\n",
    "3. Compare your centrality measures across your categorical groups.\n",
    "\n",
    "For example, using the dataset from a study of romantic relationships among high school students in Columbus, Ohio [http://researchnews.osu.edu/archive/chains.htm], you might want to determine if there are any differences in your calculated centrality measures between the two sexes.  You might use a t-test or another statistical measure to support your findings."
   ]
  },
  {
   "cell_type": "code",
   "execution_count": 33,
   "metadata": {},
   "outputs": [],
   "source": [
    "import networkx as nx\n",
    "import matplotlib.pyplot as plt\n",
    "import pandas as pd\n",
    "import matplotlib.image as mpimg\n",
    "from scipy.stats import ttest_1samp\n",
    "from IPython.display import SVG, display\n",
    "from operator import itemgetter\n",
    "from pandas import DataFrame\n",
    "\n",
    "%matplotlib inline"
   ]
  },
  {
   "cell_type": "markdown",
   "metadata": {},
   "source": [
    "First we import the Bitcoin OTC transaction database from Github. The dataset is about this is who-trusts-whom network of people who trade using Bitcoin on a platform called Bitcoin OTC. Since Bitcoin users are anonymous, there is a need to maintain a record of users' reputation to prevent transactions with fraudulent and risky users. Members of Bitcoin OTC rate other members in a scale of -10 (total distrust) to +10 (total trust) in steps of 1. This is the first explicit weighted signed directed network available for research. "
   ]
  },
  {
   "cell_type": "markdown",
   "metadata": {},
   "source": [
    "Load dataset and take a quick look of the dataset"
   ]
  },
  {
   "cell_type": "code",
   "execution_count": 34,
   "metadata": {},
   "outputs": [
    {
     "data": {
      "text/html": [
       "<div>\n",
       "<style scoped>\n",
       "    .dataframe tbody tr th:only-of-type {\n",
       "        vertical-align: middle;\n",
       "    }\n",
       "\n",
       "    .dataframe tbody tr th {\n",
       "        vertical-align: top;\n",
       "    }\n",
       "\n",
       "    .dataframe thead th {\n",
       "        text-align: right;\n",
       "    }\n",
       "</style>\n",
       "<table border=\"1\" class=\"dataframe\">\n",
       "  <thead>\n",
       "    <tr style=\"text-align: right;\">\n",
       "      <th></th>\n",
       "      <th>source</th>\n",
       "      <th>target</th>\n",
       "      <th>rating</th>\n",
       "    </tr>\n",
       "  </thead>\n",
       "  <tbody>\n",
       "    <tr>\n",
       "      <td>0</td>\n",
       "      <td>6</td>\n",
       "      <td>2</td>\n",
       "      <td>4</td>\n",
       "    </tr>\n",
       "    <tr>\n",
       "      <td>1</td>\n",
       "      <td>6</td>\n",
       "      <td>5</td>\n",
       "      <td>2</td>\n",
       "    </tr>\n",
       "    <tr>\n",
       "      <td>2</td>\n",
       "      <td>1</td>\n",
       "      <td>15</td>\n",
       "      <td>1</td>\n",
       "    </tr>\n",
       "    <tr>\n",
       "      <td>3</td>\n",
       "      <td>4</td>\n",
       "      <td>3</td>\n",
       "      <td>7</td>\n",
       "    </tr>\n",
       "    <tr>\n",
       "      <td>4</td>\n",
       "      <td>13</td>\n",
       "      <td>16</td>\n",
       "      <td>8</td>\n",
       "    </tr>\n",
       "    <tr>\n",
       "      <td>5</td>\n",
       "      <td>13</td>\n",
       "      <td>10</td>\n",
       "      <td>8</td>\n",
       "    </tr>\n",
       "    <tr>\n",
       "      <td>6</td>\n",
       "      <td>7</td>\n",
       "      <td>5</td>\n",
       "      <td>1</td>\n",
       "    </tr>\n",
       "    <tr>\n",
       "      <td>7</td>\n",
       "      <td>2</td>\n",
       "      <td>21</td>\n",
       "      <td>5</td>\n",
       "    </tr>\n",
       "    <tr>\n",
       "      <td>8</td>\n",
       "      <td>2</td>\n",
       "      <td>20</td>\n",
       "      <td>5</td>\n",
       "    </tr>\n",
       "    <tr>\n",
       "      <td>9</td>\n",
       "      <td>21</td>\n",
       "      <td>2</td>\n",
       "      <td>5</td>\n",
       "    </tr>\n",
       "  </tbody>\n",
       "</table>\n",
       "</div>"
      ],
      "text/plain": [
       "   source  target  rating\n",
       "0       6       2       4\n",
       "1       6       5       2\n",
       "2       1      15       1\n",
       "3       4       3       7\n",
       "4      13      16       8\n",
       "5      13      10       8\n",
       "6       7       5       1\n",
       "7       2      21       5\n",
       "8       2      20       5\n",
       "9      21       2       5"
      ]
     },
     "execution_count": 34,
     "metadata": {},
     "output_type": "execute_result"
    }
   ],
   "source": [
    "bitcoin = pd.read_csv(\"https://raw.githubusercontent.com/mharrisonbaker/DATA620/main/soc-sign-bitcoinotc.csv\", header=None, names=['source', 'target', 'rating', 'time'])\n",
    "\n",
    "bitcoin = bitcoin.drop(columns = ['time'])\n",
    "\n",
    "bitcoin.head(10)"
   ]
  },
  {
   "cell_type": "code",
   "execution_count": 35,
   "metadata": {},
   "outputs": [
    {
     "data": {
      "text/html": [
       "<div>\n",
       "<style scoped>\n",
       "    .dataframe tbody tr th:only-of-type {\n",
       "        vertical-align: middle;\n",
       "    }\n",
       "\n",
       "    .dataframe tbody tr th {\n",
       "        vertical-align: top;\n",
       "    }\n",
       "\n",
       "    .dataframe thead th {\n",
       "        text-align: right;\n",
       "    }\n",
       "</style>\n",
       "<table border=\"1\" class=\"dataframe\">\n",
       "  <thead>\n",
       "    <tr style=\"text-align: right;\">\n",
       "      <th></th>\n",
       "      <th>source</th>\n",
       "      <th>target</th>\n",
       "      <th>rating</th>\n",
       "    </tr>\n",
       "  </thead>\n",
       "  <tbody>\n",
       "    <tr>\n",
       "      <td>count</td>\n",
       "      <td>35592.000000</td>\n",
       "      <td>35592.000000</td>\n",
       "      <td>35592.000000</td>\n",
       "    </tr>\n",
       "    <tr>\n",
       "      <td>mean</td>\n",
       "      <td>2353.847269</td>\n",
       "      <td>2417.478254</td>\n",
       "      <td>1.012025</td>\n",
       "    </tr>\n",
       "    <tr>\n",
       "      <td>std</td>\n",
       "      <td>1605.771178</td>\n",
       "      <td>1658.232170</td>\n",
       "      <td>3.562094</td>\n",
       "    </tr>\n",
       "    <tr>\n",
       "      <td>min</td>\n",
       "      <td>1.000000</td>\n",
       "      <td>1.000000</td>\n",
       "      <td>-10.000000</td>\n",
       "    </tr>\n",
       "    <tr>\n",
       "      <td>25%</td>\n",
       "      <td>988.000000</td>\n",
       "      <td>978.000000</td>\n",
       "      <td>1.000000</td>\n",
       "    </tr>\n",
       "    <tr>\n",
       "      <td>50%</td>\n",
       "      <td>2125.000000</td>\n",
       "      <td>2178.000000</td>\n",
       "      <td>1.000000</td>\n",
       "    </tr>\n",
       "    <tr>\n",
       "      <td>75%</td>\n",
       "      <td>3722.000000</td>\n",
       "      <td>3804.000000</td>\n",
       "      <td>2.000000</td>\n",
       "    </tr>\n",
       "    <tr>\n",
       "      <td>max</td>\n",
       "      <td>6000.000000</td>\n",
       "      <td>6005.000000</td>\n",
       "      <td>10.000000</td>\n",
       "    </tr>\n",
       "  </tbody>\n",
       "</table>\n",
       "</div>"
      ],
      "text/plain": [
       "             source        target        rating\n",
       "count  35592.000000  35592.000000  35592.000000\n",
       "mean    2353.847269   2417.478254      1.012025\n",
       "std     1605.771178   1658.232170      3.562094\n",
       "min        1.000000      1.000000    -10.000000\n",
       "25%      988.000000    978.000000      1.000000\n",
       "50%     2125.000000   2178.000000      1.000000\n",
       "75%     3722.000000   3804.000000      2.000000\n",
       "max     6000.000000   6005.000000     10.000000"
      ]
     },
     "execution_count": 35,
     "metadata": {},
     "output_type": "execute_result"
    }
   ],
   "source": [
    "bitcoin.describe()"
   ]
  },
  {
   "cell_type": "code",
   "execution_count": 36,
   "metadata": {},
   "outputs": [],
   "source": [
    "# built the graph\n",
    "G = nx.from_pandas_edgelist(bitcoin, 'source', 'target', 'rating')"
   ]
  },
  {
   "cell_type": "code",
   "execution_count": 37,
   "metadata": {},
   "outputs": [
    {
     "data": {
      "image/png": "[encoded data removed]",
      "text/plain": [
       "<Figure size 432x288 with 1 Axes>"
      ]
     },
     "metadata": {},
     "output_type": "display_data"
    }
   ],
   "source": [
    "nx.draw_spring(G,with_labels = False, node_color=\"steelblue\", alpha=0.5)"
   ]
  },
  {
   "cell_type": "code",
   "execution_count": 6,
   "metadata": {},
   "outputs": [
    {
     "name": "stdout",
     "output_type": "stream",
     "text": [
      "Name: \n",
      "Type: Graph\n",
      "Number of nodes: 5881\n",
      "Number of edges: 21492\n",
      "Average degree:   7.3090\n"
     ]
    }
   ],
   "source": [
    "print(nx.info(G))"
   ]
  },
  {
   "cell_type": "code",
   "execution_count": 7,
   "metadata": {},
   "outputs": [
    {
     "name": "stdout",
     "output_type": "stream",
     "text": [
      "Number of Nodes: 5881\n",
      "Number of Edges: 21492\n"
     ]
    }
   ],
   "source": [
    "print(\"Number of Nodes: \" + str(nx.number_of_nodes(G)))\n",
    "print(\"Number of Edges: \" + str(nx.number_of_edges(G)))"
   ]
  },
  {
   "cell_type": "code",
   "execution_count": 8,
   "metadata": {},
   "outputs": [
    {
     "data": {
      "image/png": "[encoded data removed]",
      "text/plain": [
       "<Figure size 432x288 with 1 Axes>"
      ]
     },
     "metadata": {},
     "output_type": "display_data"
    }
   ],
   "source": [
    "#as shown in the first visualization, our graph is disconnected, instead we find the diameter of the largest subgraph in the set\n",
    "G = nx.karate_club_graph()\n",
    "res = [0,1,2,3,4,5, 'parrot']\n",
    "\n",
    "pos = nx.spring_layout(G)  #setting the positions with respect to G, not k.\n",
    "k = G.subgraph(res) \n",
    "plt.figure()\n",
    "nx.draw_networkx(k, pos=pos)\n",
    "\n",
    "othersubgraph = G.subgraph(range(6,G.order()))\n",
    "nx.draw_networkx(othersubgraph, pos=pos, node_color = 'b')\n",
    "plt.show()"
   ]
  },
  {
   "cell_type": "code",
   "execution_count": 9,
   "metadata": {},
   "outputs": [
    {
     "name": "stdout",
     "output_type": "stream",
     "text": [
      "Diameter: 2\n"
     ]
    }
   ],
   "source": [
    "print(\"Diameter: \" + str(nx.diameter(k)))"
   ]
  },
  {
   "cell_type": "markdown",
   "metadata": {},
   "source": [
    "# Calculate Degree Centrality"
   ]
  },
  {
   "cell_type": "markdown",
   "metadata": {},
   "source": [
    "Degree centrality is the simplest centrality measure to compute. Recall that a node's degree is simply a count of how many social connections (i.e., edges) it has. The degree centrality for a node is simply its degree. A node with 10 social connections would have a degree centrality of 10. A node with 1 edge would have a degree centrality of 1."
   ]
  },
  {
   "cell_type": "code",
   "execution_count": 10,
   "metadata": {},
   "outputs": [],
   "source": [
    "deg_centrality = nx.degree_centrality(G) # compute degree centrality for each node\n",
    "eigen_centrality = nx.eigenvector_centrality(G) # compute eigenvector centrality for each node"
   ]
  },
  {
   "cell_type": "code",
   "execution_count": 11,
   "metadata": {},
   "outputs": [
    {
     "data": {
      "text/plain": [
       "[<matplotlib.lines.Line2D at 0x2226a318088>]"
      ]
     },
     "execution_count": 11,
     "metadata": {},
     "output_type": "execute_result"
    },
    {
     "data": {
      "image/png": "[encoded data removed]",
      "text/plain": [
       "<Figure size 432x288 with 1 Axes>"
      ]
     },
     "metadata": {
      "needs_background": "light"
     },
     "output_type": "display_data"
    }
   ],
   "source": [
    "# display a histogram of node degrees in 100 bins\n",
    "h = plt.hist(deg_centrality.values(), 100)\n",
    "plt.loglog(h[1][1:], h[0])"
   ]
  },
  {
   "cell_type": "code",
   "execution_count": 12,
   "metadata": {},
   "outputs": [
    {
     "data": {
      "text/html": [
       "<div>\n",
       "<style scoped>\n",
       "    .dataframe tbody tr th:only-of-type {\n",
       "        vertical-align: middle;\n",
       "    }\n",
       "\n",
       "    .dataframe tbody tr th {\n",
       "        vertical-align: top;\n",
       "    }\n",
       "\n",
       "    .dataframe thead th {\n",
       "        text-align: right;\n",
       "    }\n",
       "</style>\n",
       "<table border=\"1\" class=\"dataframe\">\n",
       "  <thead>\n",
       "    <tr style=\"text-align: right;\">\n",
       "      <th></th>\n",
       "      <th>node</th>\n",
       "      <th>Deg_centrality</th>\n",
       "    </tr>\n",
       "  </thead>\n",
       "  <tbody>\n",
       "    <tr>\n",
       "      <td>0</td>\n",
       "      <td>33</td>\n",
       "      <td>0.515152</td>\n",
       "    </tr>\n",
       "    <tr>\n",
       "      <td>1</td>\n",
       "      <td>0</td>\n",
       "      <td>0.484848</td>\n",
       "    </tr>\n",
       "    <tr>\n",
       "      <td>2</td>\n",
       "      <td>32</td>\n",
       "      <td>0.363636</td>\n",
       "    </tr>\n",
       "    <tr>\n",
       "      <td>3</td>\n",
       "      <td>2</td>\n",
       "      <td>0.303030</td>\n",
       "    </tr>\n",
       "    <tr>\n",
       "      <td>4</td>\n",
       "      <td>1</td>\n",
       "      <td>0.272727</td>\n",
       "    </tr>\n",
       "    <tr>\n",
       "      <td>5</td>\n",
       "      <td>3</td>\n",
       "      <td>0.181818</td>\n",
       "    </tr>\n",
       "    <tr>\n",
       "      <td>6</td>\n",
       "      <td>31</td>\n",
       "      <td>0.181818</td>\n",
       "    </tr>\n",
       "    <tr>\n",
       "      <td>7</td>\n",
       "      <td>23</td>\n",
       "      <td>0.151515</td>\n",
       "    </tr>\n",
       "    <tr>\n",
       "      <td>8</td>\n",
       "      <td>8</td>\n",
       "      <td>0.151515</td>\n",
       "    </tr>\n",
       "    <tr>\n",
       "      <td>9</td>\n",
       "      <td>13</td>\n",
       "      <td>0.151515</td>\n",
       "    </tr>\n",
       "  </tbody>\n",
       "</table>\n",
       "</div>"
      ],
      "text/plain": [
       "   node  Deg_centrality\n",
       "0    33        0.515152\n",
       "1     0        0.484848\n",
       "2    32        0.363636\n",
       "3     2        0.303030\n",
       "4     1        0.272727\n",
       "5     3        0.181818\n",
       "6    31        0.181818\n",
       "7    23        0.151515\n",
       "8     8        0.151515\n",
       "9    13        0.151515"
      ]
     },
     "execution_count": 12,
     "metadata": {},
     "output_type": "execute_result"
    }
   ],
   "source": [
    "df = pd.DataFrame.from_dict({\n",
    "    'node': list(deg_centrality.keys()),\n",
    "    'Deg_centrality': list(deg_centrality.values())\n",
    "})\n",
    "df = df.sort_values('Deg_centrality', ascending=False).reset_index(drop=True) \n",
    "\n",
    "# Find the Top 10 nodes by Degree centrality:\n",
    "df[0:10]"
   ]
  },
  {
   "cell_type": "code",
   "execution_count": 13,
   "metadata": {},
   "outputs": [
    {
     "data": {
      "text/plain": [
       "Text(0, 0.5, 'Frequency')"
      ]
     },
     "execution_count": 13,
     "metadata": {},
     "output_type": "execute_result"
    },
    {
     "data": {
      "image/png": "[encoded data removed]",
      "text/plain": [
       "<Figure size 504x288 with 1 Axes>"
      ]
     },
     "metadata": {
      "needs_background": "light"
     },
     "output_type": "display_data"
    }
   ],
   "source": [
    "plt.figure(figsize=(7,4))\n",
    "plt.hist(dict(deg_centrality).values(), 14, color = \"steelblue\")\n",
    "plt.xlabel('Degrees')\n",
    "plt.ylabel('Frequency')"
   ]
  },
  {
   "cell_type": "markdown",
   "metadata": {},
   "source": [
    "The distribution of degrees in the network is heavily left skewed"
   ]
  },
  {
   "cell_type": "markdown",
   "metadata": {},
   "source": [
    "# Calculate Eigenvector Centrality"
   ]
  },
  {
   "cell_type": "markdown",
   "metadata": {},
   "source": [
    "In graph theory, eigenvector centrality (also called eigencentrality) is a measure of the influence of a node in a network. It assigns relative scores to all nodes in the network based on the concept that connections to high-scoring nodes contribute more to the score of the node in question than equal connections to low-scoring nodes. Eigenvector centrality is a more sophisticated view of centrality: a node with a few connections could have a very high eigenvector centrality if those few connections were to very well-connected others. We can see some similarities within both measures."
   ]
  },
  {
   "cell_type": "code",
   "execution_count": 14,
   "metadata": {},
   "outputs": [
    {
     "data": {
      "text/plain": [
       "[<matplotlib.lines.Line2D at 0x22269d78548>]"
      ]
     },
     "execution_count": 14,
     "metadata": {},
     "output_type": "execute_result"
    },
    {
     "data": {
      "image/png": "[encoded data removed]",
      "text/plain": [
       "<Figure size 432x288 with 1 Axes>"
      ]
     },
     "metadata": {
      "needs_background": "light"
     },
     "output_type": "display_data"
    }
   ],
   "source": [
    "# display a histogram of node degrees in 100 bins\n",
    "eigen_h = plt.hist(eigen_centrality.values(), 100)\n",
    "plt.loglog(eigen_h[1][1:], h[0])"
   ]
  },
  {
   "cell_type": "code",
   "execution_count": 15,
   "metadata": {},
   "outputs": [
    {
     "data": {
      "text/html": [
       "<div>\n",
       "<style scoped>\n",
       "    .dataframe tbody tr th:only-of-type {\n",
       "        vertical-align: middle;\n",
       "    }\n",
       "\n",
       "    .dataframe tbody tr th {\n",
       "        vertical-align: top;\n",
       "    }\n",
       "\n",
       "    .dataframe thead th {\n",
       "        text-align: right;\n",
       "    }\n",
       "</style>\n",
       "<table border=\"1\" class=\"dataframe\">\n",
       "  <thead>\n",
       "    <tr style=\"text-align: right;\">\n",
       "      <th></th>\n",
       "      <th>node</th>\n",
       "      <th>Eigenvector</th>\n",
       "    </tr>\n",
       "  </thead>\n",
       "  <tbody>\n",
       "    <tr>\n",
       "      <td>0</td>\n",
       "      <td>33</td>\n",
       "      <td>0.373371</td>\n",
       "    </tr>\n",
       "    <tr>\n",
       "      <td>1</td>\n",
       "      <td>0</td>\n",
       "      <td>0.355483</td>\n",
       "    </tr>\n",
       "    <tr>\n",
       "      <td>2</td>\n",
       "      <td>2</td>\n",
       "      <td>0.317189</td>\n",
       "    </tr>\n",
       "    <tr>\n",
       "      <td>3</td>\n",
       "      <td>32</td>\n",
       "      <td>0.308651</td>\n",
       "    </tr>\n",
       "    <tr>\n",
       "      <td>4</td>\n",
       "      <td>1</td>\n",
       "      <td>0.265954</td>\n",
       "    </tr>\n",
       "    <tr>\n",
       "      <td>5</td>\n",
       "      <td>8</td>\n",
       "      <td>0.227405</td>\n",
       "    </tr>\n",
       "    <tr>\n",
       "      <td>6</td>\n",
       "      <td>13</td>\n",
       "      <td>0.226470</td>\n",
       "    </tr>\n",
       "    <tr>\n",
       "      <td>7</td>\n",
       "      <td>3</td>\n",
       "      <td>0.211174</td>\n",
       "    </tr>\n",
       "    <tr>\n",
       "      <td>8</td>\n",
       "      <td>31</td>\n",
       "      <td>0.191036</td>\n",
       "    </tr>\n",
       "    <tr>\n",
       "      <td>9</td>\n",
       "      <td>30</td>\n",
       "      <td>0.174760</td>\n",
       "    </tr>\n",
       "  </tbody>\n",
       "</table>\n",
       "</div>"
      ],
      "text/plain": [
       "   node  Eigenvector\n",
       "0    33     0.373371\n",
       "1     0     0.355483\n",
       "2     2     0.317189\n",
       "3    32     0.308651\n",
       "4     1     0.265954\n",
       "5     8     0.227405\n",
       "6    13     0.226470\n",
       "7     3     0.211174\n",
       "8    31     0.191036\n",
       "9    30     0.174760"
      ]
     },
     "execution_count": 15,
     "metadata": {},
     "output_type": "execute_result"
    }
   ],
   "source": [
    "ds = pd.DataFrame.from_dict({\n",
    "    'node': list(eigen_centrality.keys()),\n",
    "    'Eigenvector': list(eigen_centrality.values())\n",
    "})\n",
    "ds = ds.sort_values('Eigenvector', ascending=False).reset_index(drop=True) \n",
    "\n",
    "# Find the Top 10 nodes by Eigenvector centrality:\n",
    "ds[0:10]"
   ]
  },
  {
   "cell_type": "code",
   "execution_count": 16,
   "metadata": {},
   "outputs": [
    {
     "data": {
      "text/plain": [
       "Text(0, 0.5, 'Frequency')"
      ]
     },
     "execution_count": 16,
     "metadata": {},
     "output_type": "execute_result"
    },
    {
     "data": {
      "image/png": "[encoded data removed]",
      "text/plain": [
       "<Figure size 504x288 with 1 Axes>"
      ]
     },
     "metadata": {
      "needs_background": "light"
     },
     "output_type": "display_data"
    }
   ],
   "source": [
    "plt.figure(figsize=(7,4))\n",
    "plt.hist(dict(eigen_centrality).values(), 14, color = \"steelblue\")\n",
    "plt.xlabel('Degrees')\n",
    "plt.ylabel('Frequency')"
   ]
  },
  {
   "cell_type": "code",
   "execution_count": null,
   "metadata": {},
   "outputs": [],
   "source": []
  },
  {
   "cell_type": "code",
   "execution_count": 17,
   "metadata": {},
   "outputs": [
    {
     "name": "stdout",
     "output_type": "stream",
     "text": [
      "Network density: 0.13903743315508021\n"
     ]
    }
   ],
   "source": [
    "density = nx.density(G)\n",
    "print(\"Network density:\", density)"
   ]
  },
  {
   "cell_type": "markdown",
   "metadata": {},
   "source": [
    "Network density is the ratio of actual edges in the network to all possible edges in the network. 0 would mean that there are no connections at all, and 1 would indicate that all possible edges are present. In this case, the density of this network is approximately 0.13. So there is not a very dense network."
   ]
  },
  {
   "cell_type": "markdown",
   "metadata": {},
   "source": [
    "# T-Test"
   ]
  },
  {
   "cell_type": "markdown",
   "metadata": {},
   "source": [
    "We will group the network into two sets as Untrust and Trust network: Data of rating <= 4 is grouped as Untrust group and data of rating >= 5 is treated as Trust group. We will perform a t-test to determine if there is a significant difference between the centrality measures of these two groups."
   ]
  },
  {
   "cell_type": "markdown",
   "metadata": {},
   "source": [
    "Our null hypothesis is that the mean of degree centrality is no difference between Untrust and Trust group. \n",
    "\n",
    "Likewise that the mean of eigenvector centrality is no difference between between Untrust and Trust group."
   ]
  },
  {
   "cell_type": "code",
   "execution_count": 18,
   "metadata": {},
   "outputs": [],
   "source": [
    "new_data = bitcoin.iloc[:, :3].copy()\n",
    "data_untrust = new_data[new_data['rating'] <= 4].copy(deep=True)\n",
    "data_trust = new_data[new_data['rating'] >= 5].copy(deep=True)"
   ]
  },
  {
   "cell_type": "code",
   "execution_count": 19,
   "metadata": {},
   "outputs": [],
   "source": [
    "data_untrust = data_untrust.reset_index()\n",
    "del data_untrust['index']\n",
    "data_trust = data_trust.reset_index()\n",
    "del data_trust['index']\n",
    "\n",
    "G_data_untrust = nx.from_pandas_edgelist(data_untrust, \"source\", \"target\", \"rating\")\n",
    "G_data_trust = nx.from_pandas_edgelist(data_trust, \"source\", \"target\", \"rating\")"
   ]
  },
  {
   "cell_type": "code",
   "execution_count": 20,
   "metadata": {},
   "outputs": [
    {
     "data": {
      "text/plain": [
       "<bound method DataFrame.count of        source  target  rating\n",
       "0           6       2       4\n",
       "1           6       5       2\n",
       "2           1      15       1\n",
       "3           7       5       1\n",
       "4          17      23       1\n",
       "...       ...     ...     ...\n",
       "32696    1953    5655     -10\n",
       "32697    1810    4499       2\n",
       "32698    4499    1810       1\n",
       "32699      13    1128       1\n",
       "32700    1128      13       2\n",
       "\n",
       "[32701 rows x 3 columns]>"
      ]
     },
     "execution_count": 20,
     "metadata": {},
     "output_type": "execute_result"
    }
   ],
   "source": [
    "data_untrust.count"
   ]
  },
  {
   "cell_type": "code",
   "execution_count": 21,
   "metadata": {},
   "outputs": [
    {
     "data": {
      "text/plain": [
       "<bound method DataFrame.count of       source  target  rating\n",
       "0          4       3       7\n",
       "1         13      16       8\n",
       "2         13      10       8\n",
       "3          2      21       5\n",
       "4          2      20       5\n",
       "...      ...     ...     ...\n",
       "2886     481    1810       6\n",
       "2887    1018    2124       5\n",
       "2888    5903    2045       5\n",
       "2889    2731    3901       5\n",
       "2890    2731    4897       5\n",
       "\n",
       "[2891 rows x 3 columns]>"
      ]
     },
     "execution_count": 21,
     "metadata": {},
     "output_type": "execute_result"
    }
   ],
   "source": [
    "data_trust.count"
   ]
  },
  {
   "cell_type": "code",
   "execution_count": 22,
   "metadata": {},
   "outputs": [],
   "source": [
    "# Run degree centrality for untrust and trust\n",
    "data_untrust_degree_dict = nx.degree_centrality(G_data_untrust) \n",
    "data_trust_degree_dict = nx.degree_centrality(G_data_trust) \n",
    "\n",
    "# Run eigenvector centrality for untrust and trust\n",
    "data_untrust_eigenvector_dict = nx.eigenvector_centrality(G_data_untrust)\n",
    "data_trust_eigenvector_dict = nx.eigenvector_centrality(G_data_trust)"
   ]
  },
  {
   "cell_type": "code",
   "execution_count": 23,
   "metadata": {},
   "outputs": [],
   "source": [
    "untrust_sorted_degree = sorted(data_untrust_degree_dict.items(), key=itemgetter(1), reverse=True)\n",
    "untrust_sorted_degree = DataFrame(untrust_sorted_degree, columns=['Node', 'Degree'])\n",
    "\n",
    "trust_sorted_degree = sorted(data_trust_degree_dict.items(), key=itemgetter(1), reverse=True)\n",
    "trust_sorted_degree = DataFrame(trust_sorted_degree, columns=['Node', 'Degree'])"
   ]
  },
  {
   "cell_type": "code",
   "execution_count": 24,
   "metadata": {},
   "outputs": [],
   "source": [
    "untrust_sorted_eigenvector = sorted(data_untrust_eigenvector_dict.items(), key=itemgetter(1), reverse=True)    \n",
    "untrust_sorted_eigenvector = DataFrame(untrust_sorted_eigenvector, columns=['Node', 'Eigenvenctor'])\n",
    "\n",
    "trust_sorted_eigenvector = sorted(data_trust_eigenvector_dict.items(), key=itemgetter(1), reverse=True)\n",
    "trust_sorted_eigenvector = DataFrame(trust_sorted_eigenvector,columns=['Node', 'Eigenvenctor'])"
   ]
  },
  {
   "cell_type": "markdown",
   "metadata": {},
   "source": [
    "Let's calculate the T-test for Degree centrality"
   ]
  },
  {
   "cell_type": "code",
   "execution_count": 28,
   "metadata": {},
   "outputs": [
    {
     "name": "stdout",
     "output_type": "stream",
     "text": [
      "t-test results for degree centrality: Ttest_1sampResult(statistic=16.352142651330862, pvalue=2.3780191965756208e-55)\n"
     ]
    }
   ],
   "source": [
    "degree_diff = pd.merge(left = untrust_sorted_degree, right = trust_sorted_degree , on='Node', suffixes=['_l', '_r'])\n",
    "\n",
    "degree_diff['difference'] = degree_diff.apply(lambda row: abs(row['Degree_l']-row['Degree_r']), axis=1)\n",
    "\n",
    "print(\"t-test results for degree centrality: \" + str(ttest_1samp(degree_diff['difference'], 0)))"
   ]
  },
  {
   "cell_type": "markdown",
   "metadata": {},
   "source": [
    "Since the pvalue (2.3780191965756208e-55) is lesser than 0.05 and greated than 0, the null hypothesis is got rejected. We have statistical evidences to claim that there is a statistically difference in the degree centrality between Untrust and Trust nodes."
   ]
  },
  {
   "cell_type": "markdown",
   "metadata": {},
   "source": [
    "Let's calculate the T-test for Eigenvector centrality"
   ]
  },
  {
   "cell_type": "code",
   "execution_count": 29,
   "metadata": {},
   "outputs": [
    {
     "name": "stdout",
     "output_type": "stream",
     "text": [
      "t-test results for eigenvector centrality: Ttest_1sampResult(statistic=21.984181086416697, pvalue=7.63770407355221e-93)\n"
     ]
    }
   ],
   "source": [
    "eigenvector_diff = pd.merge(left = untrust_sorted_eigenvector, right = trust_sorted_eigenvector , on='Node', suffixes=['_l', '_r'])\n",
    "\n",
    "eigenvector_diff['difference'] = eigenvector_diff.apply(lambda row: abs(row['Eigenvenctor_l']-row['Eigenvenctor_r']), axis=1)\n",
    "\n",
    "print(\"t-test results for eigenvector centrality: \" + str(ttest_1samp(eigenvector_diff['difference'], 0)))"
   ]
  },
  {
   "cell_type": "markdown",
   "metadata": {},
   "source": [
    "Since the pvalue (7.63770407355221e-93) is lesser than 0.05 and greated than 0, the null hypothesis is got rejected. We have statistical evidences to claim that there is a statistically difference in the eigenvenctor centrality between Untrust and Trust nodes."
   ]
  },
  {
   "cell_type": "code",
   "execution_count": null,
   "metadata": {},
   "outputs": [],
   "source": []
  }
 ],
 "metadata": {
  "kernelspec": {
   "display_name": "Python 3",
   "language": "python",
   "name": "python3"
  },
  "language_info": {
   "codemirror_mode": {
    "name": "ipython",
    "version": 3
   },
   "file_extension": ".py",
   "mimetype": "text/x-python",
   "name": "python",
   "nbconvert_exporter": "python",
   "pygments_lexer": "ipython3",
   "version": "3.8.5"
  }
 },
 "nbformat": 4,
 "nbformat_minor": 4
}
