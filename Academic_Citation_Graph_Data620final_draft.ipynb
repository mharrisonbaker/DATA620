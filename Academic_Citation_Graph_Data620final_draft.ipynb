{
 "cells": [
  {
   "cell_type": "markdown",
   "metadata": {},
   "source": [
    "# Final Project"
   ]
  },
  {
   "cell_type": "markdown",
   "metadata": {
    "id": "JYPoBIexB8W-"
   },
   "source": [
    "Group Member: Bryan Persaud, Matthew Baker, Zhi Ying Chen"
   ]
  },
  {
   "cell_type": "markdown",
   "metadata": {
    "id": "J4C18tXEB_2Y"
   },
   "source": [
    "Your project should incorporate one or both of the two main themes of this course: network analysis and text processing. You need to show all of your work in a coherent workflow, and in a reproducible format, such as an IPython Notebook or an R Markdown document. If you are building a model or models, explain how you evaluate the “goodness” of the chosen model and parameters.\n",
    "\n",
    "from google.colab import drive\n",
    "drive.flush_and_unmount()\n",
    "drive.mount('/content/drive')\n",
    "from google.colab import drive\n",
    "drive.flush_and_unmount()"
   ]
  },
  {
   "cell_type": "code",
   "execution_count": 2,
   "metadata": {
    "colab": {
     "base_uri": "https://localhost:8080/"
    },
    "executionInfo": {
     "elapsed": 31489,
     "status": "ok",
     "timestamp": 1626315724840,
     "user": {
      "displayName": "zy chen",
      "photoUrl": "",
      "userId": "07200917309806265149"
     },
     "user_tz": 240
    },
    "id": "Z2bD4ON_7csF",
    "outputId": "3f892f4c-cc78-4fa8-e78b-a5f679a35630"
   },
   "outputs": [
    {
     "name": "stdout",
     "output_type": "stream",
     "text": [
      "Drive not mounted, so nothing to flush and unmount.\n",
      "Mounted at /content/drive\n"
     ]
    }
   ],
   "source": [
    "from google.colab import drive\n",
    "drive.flush_and_unmount()\n",
    "drive.mount('/content/drive')"
   ]
  },
  {
   "cell_type": "code",
   "execution_count": 3,
   "metadata": {
    "colab": {
     "base_uri": "https://localhost:8080/"
    },
    "executionInfo": {
     "elapsed": 1886,
     "status": "ok",
     "timestamp": 1626315726724,
     "user": {
      "displayName": "zy chen",
      "photoUrl": "",
      "userId": "07200917309806265149"
     },
     "user_tz": 240
    },
    "id": "fOte3tbQ-4lZ",
    "outputId": "1d8b0177-9cf5-40b2-f0b7-4ce3b8bd3932"
   },
   "outputs": [
    {
     "name": "stdout",
     "output_type": "stream",
     "text": [
      "[nltk_data] Downloading package stopwords to /root/nltk_data...\n",
      "[nltk_data]   Unzipping corpora/stopwords.zip.\n"
     ]
    },
    {
     "data": {
      "text/plain": [
       "True"
      ]
     },
     "execution_count": 3,
     "metadata": {
      "tags": []
     },
     "output_type": "execute_result"
    }
   ],
   "source": [
    "import nltk\n",
    "nltk.download('stopwords')"
   ]
  },
  {
   "cell_type": "code",
   "execution_count": 65,
   "metadata": {
    "executionInfo": {
     "elapsed": 244,
     "status": "ok",
     "timestamp": 1626322372343,
     "user": {
      "displayName": "zy chen",
      "photoUrl": "",
      "userId": "07200917309806265149"
     },
     "user_tz": 240
    },
    "id": "poyA13AY_BKv"
   },
   "outputs": [],
   "source": [
    "import matplotlib.pyplot as plt\n",
    "import pandas as pd\n",
    "import numpy as np\n",
    "import networkx as nx\n",
    "import random\n",
    "import string\n",
    "import re\n",
    "import json\n",
    "import seaborn as sns\n",
    "from itertools import islice\n",
    "from nltk.corpus import stopwords\n",
    "from nltk.stem.snowball import SnowballStemmer\n",
    "from sklearn.feature_extraction.text import CountVectorizer\n",
    "from sklearn.feature_extraction.text import TfidfTransformer\n",
    "from networkx.algorithms import bipartite as bi"
   ]
  },
  {
   "cell_type": "markdown",
   "metadata": {
    "id": "ViIlTPPNRhaj"
   },
   "source": [
    "The data set is designed for research purpose only. The citation data is extracted from DBLP, ACM, MAG (Microsoft Academic Graph), and other sources. The first version contains 629,814 papers and 632,752 citations. Each paper is associated with abstract, authors, year, venue, and title.\n",
    "\n",
    "The data set can be used for clustering with network and side information, studying influence in the citation network, finding the most influential papers, topic modeling analysis, etc."
   ]
  },
  {
   "cell_type": "code",
   "execution_count": 5,
   "metadata": {
    "colab": {
     "base_uri": "https://localhost:8080/"
    },
    "executionInfo": {
     "elapsed": 391,
     "status": "ok",
     "timestamp": 1626315727489,
     "user": {
      "displayName": "zy chen",
      "photoUrl": "",
      "userId": "07200917309806265149"
     },
     "user_tz": 240
    },
    "id": "fGbuGmrlAqsb",
    "outputId": "7df910bf-7b70-4985-b8a2-58a22dfb00a9"
   },
   "outputs": [
    {
     "name": "stdout",
     "output_type": "stream",
     "text": [
      " academic_citation_v10\t'Colab Notebooks'   Data  'DATA SCIENCE '\n"
     ]
    }
   ],
   "source": [
    "!ls \"/content/drive/My Drive/\""
   ]
  },
  {
   "cell_type": "code",
   "execution_count": 6,
   "metadata": {
    "executionInfo": {
     "elapsed": 5162,
     "status": "ok",
     "timestamp": 1626315732650,
     "user": {
      "displayName": "zy chen",
      "photoUrl": "",
      "userId": "07200917309806265149"
     },
     "user_tz": 240
    },
    "id": "CIaE_O66_EJL"
   },
   "outputs": [],
   "source": [
    "df = pd.read_json('/content/drive/My Drive/academic_citation_v10/dblp-ref-3.json', lines=True)"
   ]
  },
  {
   "cell_type": "code",
   "execution_count": 7,
   "metadata": {
    "colab": {
     "base_uri": "https://localhost:8080/",
     "height": 527
    },
    "executionInfo": {
     "elapsed": 13,
     "status": "ok",
     "timestamp": 1626315732655,
     "user": {
      "displayName": "zy chen",
      "photoUrl": "",
      "userId": "07200917309806265149"
     },
     "user_tz": 240
    },
    "id": "tHPNd4PRBtxX",
    "outputId": "5ba49232-3c37-4bcf-c1a9-ac094a57f4bb"
   },
   "outputs": [
    {
     "data": {
      "text/html": [
       "<div>\n",
       "<style scoped>\n",
       "    .dataframe tbody tr th:only-of-type {\n",
       "        vertical-align: middle;\n",
       "    }\n",
       "\n",
       "    .dataframe tbody tr th {\n",
       "        vertical-align: top;\n",
       "    }\n",
       "\n",
       "    .dataframe thead th {\n",
       "        text-align: right;\n",
       "    }\n",
       "</style>\n",
       "<table border=\"1\" class=\"dataframe\">\n",
       "  <thead>\n",
       "    <tr style=\"text-align: right;\">\n",
       "      <th></th>\n",
       "      <th>abstract</th>\n",
       "      <th>authors</th>\n",
       "      <th>n_citation</th>\n",
       "      <th>references</th>\n",
       "      <th>title</th>\n",
       "      <th>venue</th>\n",
       "      <th>year</th>\n",
       "      <th>id</th>\n",
       "    </tr>\n",
       "  </thead>\n",
       "  <tbody>\n",
       "    <tr>\n",
       "      <th>0</th>\n",
       "      <td>AdaBoost algorithm based on Haar-like features...</td>\n",
       "      <td>[Zheng Xu, Runbin Shi, Zhihao Sun, Yaqi Li, Yu...</td>\n",
       "      <td>0</td>\n",
       "      <td>[0a11984c-ab6e-4b75-9291-e1b700c98d52, 1f4152a...</td>\n",
       "      <td>A Heterogeneous System for Real-Time Detection...</td>\n",
       "      <td>high performance computing and communications</td>\n",
       "      <td>2016</td>\n",
       "      <td>001eef4f-1d00-4ae6-8b4f-7e66344bbc6e</td>\n",
       "    </tr>\n",
       "    <tr>\n",
       "      <th>1</th>\n",
       "      <td>In this paper, a kind of novel jigsaw EBG stru...</td>\n",
       "      <td>[Yufei Liang, Yan Zhang, Tao Dong, Shan-wei Lu]</td>\n",
       "      <td>0</td>\n",
       "      <td>[]</td>\n",
       "      <td>A novel conformal jigsaw EBG structure design</td>\n",
       "      <td>international conference on conceptual structures</td>\n",
       "      <td>2016</td>\n",
       "      <td>002e0b7e-d62f-4140-b015-1fe29a9acbaa</td>\n",
       "    </tr>\n",
       "    <tr>\n",
       "      <th>2</th>\n",
       "      <td>This paper studies the problem of using an aut...</td>\n",
       "      <td>[Xiaodong Ai, Keyou You, Shiji Song]</td>\n",
       "      <td>0</td>\n",
       "      <td>[1862a08a-08c6-4ab1-a214-8932bbd0d2d9, 7bcea2f...</td>\n",
       "      <td>A source-seeking strategy for an autonomous un...</td>\n",
       "      <td>international conference on control, automatio...</td>\n",
       "      <td>2016</td>\n",
       "      <td>00352759-f0a7-4678-82ae-fed68c700da6</td>\n",
       "    </tr>\n",
       "    <tr>\n",
       "      <th>3</th>\n",
       "      <td>NaN</td>\n",
       "      <td>[Francine Berman, Vinton G. Cerf]</td>\n",
       "      <td>0</td>\n",
       "      <td>[]</td>\n",
       "      <td>Social and ethical behavior in the internet of...</td>\n",
       "      <td>Communications of The ACM</td>\n",
       "      <td>2017</td>\n",
       "      <td>00f77fa9-ae49-4935-9166-2f5f9cdb3d6b</td>\n",
       "    </tr>\n",
       "    <tr>\n",
       "      <th>4</th>\n",
       "      <td>NaN</td>\n",
       "      <td>[Leon A. Sakkal, Kyle Z. Rajkowski, Roger S. A...</td>\n",
       "      <td>50</td>\n",
       "      <td>[4f4f200c-0764-4fef-9718-b8bccf303dba, aa699fb...</td>\n",
       "      <td>Prediction of consensus binding mode geometrie...</td>\n",
       "      <td>Journal of Computational Chemistry</td>\n",
       "      <td>2017</td>\n",
       "      <td>013ea675-bb58-42f8-a423-f5534546b2b1</td>\n",
       "    </tr>\n",
       "    <tr>\n",
       "      <th>5</th>\n",
       "      <td>NaN</td>\n",
       "      <td>[Nuno Moniz, Luís Torgo, João Vinagre]</td>\n",
       "      <td>0</td>\n",
       "      <td>NaN</td>\n",
       "      <td>Data-Driven Relevance Judgments for Ranking Ev...</td>\n",
       "      <td></td>\n",
       "      <td>2016</td>\n",
       "      <td>01413023-7ed6-4964-b7c8-19259f84a1db</td>\n",
       "    </tr>\n",
       "    <tr>\n",
       "      <th>6</th>\n",
       "      <td>This paper presents a methodology to analyze l...</td>\n",
       "      <td>[Vincent Buntinx, Cyril Bornet, Frédéric Kaplan]</td>\n",
       "      <td>0</td>\n",
       "      <td>[426b57a8-2e7d-498d-9a57-c09983ae0699, 6499d57...</td>\n",
       "      <td>Studying Linguistic Changes over 200 Years of ...</td>\n",
       "      <td>Frontiers in Digital Humanities</td>\n",
       "      <td>2017</td>\n",
       "      <td>01522369-3b88-4256-99d4-4e0c1de9f1ba</td>\n",
       "    </tr>\n",
       "    <tr>\n",
       "      <th>7</th>\n",
       "      <td>Boneh and Durfee (Eurocrypt 1999) proposed two...</td>\n",
       "      <td>[Atsushi Takayasu, Noboru Kunihiro]</td>\n",
       "      <td>0</td>\n",
       "      <td>NaN</td>\n",
       "      <td>Small secret exponent attacks on RSA with unba...</td>\n",
       "      <td>international symposium on information theory ...</td>\n",
       "      <td>2016</td>\n",
       "      <td>01537b60-9ae2-4684-a1fa-e688e7757e6f</td>\n",
       "    </tr>\n",
       "    <tr>\n",
       "      <th>8</th>\n",
       "      <td>Container identification and recognition is st...</td>\n",
       "      <td>[Ankit Verma, Monika Sharma, Ramya Hebbalagupp...</td>\n",
       "      <td>0</td>\n",
       "      <td>[3e3a4245-eb62-4769-bc84-1001479df701, 42f6b97...</td>\n",
       "      <td>Automatic Container Code Recognition via Spati...</td>\n",
       "      <td>international conference on machine learning a...</td>\n",
       "      <td>2016</td>\n",
       "      <td>017440d5-6ba8-422a-bd7a-d59e3b9a4e77</td>\n",
       "    </tr>\n",
       "    <tr>\n",
       "      <th>9</th>\n",
       "      <td>This paper analyzes the current active Medical...</td>\n",
       "      <td>[Elaine Vedrasco, Chidchanok Lursinsap]</td>\n",
       "      <td>0</td>\n",
       "      <td>[472b9486-b98a-4972-8252-b1eacbaf52a7, 572457c...</td>\n",
       "      <td>Effective solution for a medical tourism aggre...</td>\n",
       "      <td></td>\n",
       "      <td>2016</td>\n",
       "      <td>01dcc2e7-fda1-483d-9a5c-10e9cf985951</td>\n",
       "    </tr>\n",
       "  </tbody>\n",
       "</table>\n",
       "</div>"
      ],
      "text/plain": [
       "                                            abstract  ...                                    id\n",
       "0  AdaBoost algorithm based on Haar-like features...  ...  001eef4f-1d00-4ae6-8b4f-7e66344bbc6e\n",
       "1  In this paper, a kind of novel jigsaw EBG stru...  ...  002e0b7e-d62f-4140-b015-1fe29a9acbaa\n",
       "2  This paper studies the problem of using an aut...  ...  00352759-f0a7-4678-82ae-fed68c700da6\n",
       "3                                                NaN  ...  00f77fa9-ae49-4935-9166-2f5f9cdb3d6b\n",
       "4                                                NaN  ...  013ea675-bb58-42f8-a423-f5534546b2b1\n",
       "5                                                NaN  ...  01413023-7ed6-4964-b7c8-19259f84a1db\n",
       "6  This paper presents a methodology to analyze l...  ...  01522369-3b88-4256-99d4-4e0c1de9f1ba\n",
       "7  Boneh and Durfee (Eurocrypt 1999) proposed two...  ...  01537b60-9ae2-4684-a1fa-e688e7757e6f\n",
       "8  Container identification and recognition is st...  ...  017440d5-6ba8-422a-bd7a-d59e3b9a4e77\n",
       "9  This paper analyzes the current active Medical...  ...  01dcc2e7-fda1-483d-9a5c-10e9cf985951\n",
       "\n",
       "[10 rows x 8 columns]"
      ]
     },
     "execution_count": 7,
     "metadata": {
      "tags": []
     },
     "output_type": "execute_result"
    }
   ],
   "source": [
    "df.head(10)"
   ]
  },
  {
   "cell_type": "code",
   "execution_count": 8,
   "metadata": {
    "colab": {
     "base_uri": "https://localhost:8080/",
     "height": 288
    },
    "executionInfo": {
     "elapsed": 11,
     "status": "ok",
     "timestamp": 1626315732656,
     "user": {
      "displayName": "zy chen",
      "photoUrl": "",
      "userId": "07200917309806265149"
     },
     "user_tz": 240
    },
    "id": "cJKLWeHxCRVX",
    "outputId": "26017592-13d0-4a29-82dc-9c7b4aac96ad"
   },
   "outputs": [
    {
     "data": {
      "text/html": [
       "<div>\n",
       "<style scoped>\n",
       "    .dataframe tbody tr th:only-of-type {\n",
       "        vertical-align: middle;\n",
       "    }\n",
       "\n",
       "    .dataframe tbody tr th {\n",
       "        vertical-align: top;\n",
       "    }\n",
       "\n",
       "    .dataframe thead th {\n",
       "        text-align: right;\n",
       "    }\n",
       "</style>\n",
       "<table border=\"1\" class=\"dataframe\">\n",
       "  <thead>\n",
       "    <tr style=\"text-align: right;\">\n",
       "      <th></th>\n",
       "      <th>abstract</th>\n",
       "      <th>authors</th>\n",
       "      <th>n_citation</th>\n",
       "      <th>references</th>\n",
       "      <th>title</th>\n",
       "      <th>venue</th>\n",
       "      <th>year</th>\n",
       "      <th>id</th>\n",
       "    </tr>\n",
       "  </thead>\n",
       "  <tbody>\n",
       "    <tr>\n",
       "      <th>0</th>\n",
       "      <td>AdaBoost algorithm based on Haar-like features...</td>\n",
       "      <td>[Zheng Xu, Runbin Shi, Zhihao Sun, Yaqi Li, Yu...</td>\n",
       "      <td>0</td>\n",
       "      <td>[0a11984c-ab6e-4b75-9291-e1b700c98d52, 1f4152a...</td>\n",
       "      <td>A Heterogeneous System for Real-Time Detection...</td>\n",
       "      <td>high performance computing and communications</td>\n",
       "      <td>2016</td>\n",
       "      <td>001eef4f-1d00-4ae6-8b4f-7e66344bbc6e</td>\n",
       "    </tr>\n",
       "    <tr>\n",
       "      <th>1</th>\n",
       "      <td>In this paper, a kind of novel jigsaw EBG stru...</td>\n",
       "      <td>[Yufei Liang, Yan Zhang, Tao Dong, Shan-wei Lu]</td>\n",
       "      <td>0</td>\n",
       "      <td>[]</td>\n",
       "      <td>A novel conformal jigsaw EBG structure design</td>\n",
       "      <td>international conference on conceptual structures</td>\n",
       "      <td>2016</td>\n",
       "      <td>002e0b7e-d62f-4140-b015-1fe29a9acbaa</td>\n",
       "    </tr>\n",
       "    <tr>\n",
       "      <th>2</th>\n",
       "      <td>This paper studies the problem of using an aut...</td>\n",
       "      <td>[Xiaodong Ai, Keyou You, Shiji Song]</td>\n",
       "      <td>0</td>\n",
       "      <td>[1862a08a-08c6-4ab1-a214-8932bbd0d2d9, 7bcea2f...</td>\n",
       "      <td>A source-seeking strategy for an autonomous un...</td>\n",
       "      <td>international conference on control, automatio...</td>\n",
       "      <td>2016</td>\n",
       "      <td>00352759-f0a7-4678-82ae-fed68c700da6</td>\n",
       "    </tr>\n",
       "    <tr>\n",
       "      <th>3</th>\n",
       "      <td>This paper presents a methodology to analyze l...</td>\n",
       "      <td>[Vincent Buntinx, Cyril Bornet, Frédéric Kaplan]</td>\n",
       "      <td>0</td>\n",
       "      <td>[426b57a8-2e7d-498d-9a57-c09983ae0699, 6499d57...</td>\n",
       "      <td>Studying Linguistic Changes over 200 Years of ...</td>\n",
       "      <td>Frontiers in Digital Humanities</td>\n",
       "      <td>2017</td>\n",
       "      <td>01522369-3b88-4256-99d4-4e0c1de9f1ba</td>\n",
       "    </tr>\n",
       "    <tr>\n",
       "      <th>4</th>\n",
       "      <td>Container identification and recognition is st...</td>\n",
       "      <td>[Ankit Verma, Monika Sharma, Ramya Hebbalagupp...</td>\n",
       "      <td>0</td>\n",
       "      <td>[3e3a4245-eb62-4769-bc84-1001479df701, 42f6b97...</td>\n",
       "      <td>Automatic Container Code Recognition via Spati...</td>\n",
       "      <td>international conference on machine learning a...</td>\n",
       "      <td>2016</td>\n",
       "      <td>017440d5-6ba8-422a-bd7a-d59e3b9a4e77</td>\n",
       "    </tr>\n",
       "  </tbody>\n",
       "</table>\n",
       "</div>"
      ],
      "text/plain": [
       "                                            abstract  ...                                    id\n",
       "0  AdaBoost algorithm based on Haar-like features...  ...  001eef4f-1d00-4ae6-8b4f-7e66344bbc6e\n",
       "1  In this paper, a kind of novel jigsaw EBG stru...  ...  002e0b7e-d62f-4140-b015-1fe29a9acbaa\n",
       "2  This paper studies the problem of using an aut...  ...  00352759-f0a7-4678-82ae-fed68c700da6\n",
       "3  This paper presents a methodology to analyze l...  ...  01522369-3b88-4256-99d4-4e0c1de9f1ba\n",
       "4  Container identification and recognition is st...  ...  017440d5-6ba8-422a-bd7a-d59e3b9a4e77\n",
       "\n",
       "[5 rows x 8 columns]"
      ]
     },
     "execution_count": 8,
     "metadata": {
      "tags": []
     },
     "output_type": "execute_result"
    }
   ],
   "source": [
    "#drop rows with NaN values \n",
    "df.dropna(axis=0, how='any', inplace=True)\n",
    "df.reset_index(drop=True, inplace=True)\n",
    "df.head()"
   ]
  },
  {
   "cell_type": "code",
   "execution_count": 9,
   "metadata": {
    "colab": {
     "base_uri": "https://localhost:8080/"
    },
    "executionInfo": {
     "elapsed": 10,
     "status": "ok",
     "timestamp": 1626315732656,
     "user": {
      "displayName": "zy chen",
      "photoUrl": "",
      "userId": "07200917309806265149"
     },
     "user_tz": 240
    },
    "id": "iS_3I2mXCaSn",
    "outputId": "76449271-9d1f-4440-b038-4961c452f137"
   },
   "outputs": [
    {
     "name": "stdout",
     "output_type": "stream",
     "text": [
      "<class 'pandas.core.frame.DataFrame'>\n",
      "RangeIndex: 35174 entries, 0 to 35173\n",
      "Data columns (total 8 columns):\n",
      " #   Column      Non-Null Count  Dtype \n",
      "---  ------      --------------  ----- \n",
      " 0   abstract    35174 non-null  object\n",
      " 1   authors     35174 non-null  object\n",
      " 2   n_citation  35174 non-null  int64 \n",
      " 3   references  35174 non-null  object\n",
      " 4   title       35174 non-null  object\n",
      " 5   venue       35174 non-null  object\n",
      " 6   year        35174 non-null  int64 \n",
      " 7   id          35174 non-null  object\n",
      "dtypes: int64(2), object(6)\n",
      "memory usage: 2.1+ MB\n"
     ]
    }
   ],
   "source": [
    "df.info()"
   ]
  },
  {
   "cell_type": "code",
   "execution_count": 10,
   "metadata": {
    "executionInfo": {
     "elapsed": 1666,
     "status": "ok",
     "timestamp": 1626315734315,
     "user": {
      "displayName": "zy chen",
      "photoUrl": "",
      "userId": "07200917309806265149"
     },
     "user_tz": 240
    },
    "id": "c-04KjMnCcxb"
   },
   "outputs": [],
   "source": [
    "#remove punctuation from abstract and title fields\n",
    "p = re.compile(r'[^\\w\\s]+')\n",
    "df['abstract'] = [p.sub('', x) for x in df['abstract'].tolist()]\n",
    "df['title'] = [p.sub('', x) for x in df['title'].tolist()]\n"
   ]
  },
  {
   "cell_type": "code",
   "execution_count": 11,
   "metadata": {
    "colab": {
     "base_uri": "https://localhost:8080/"
    },
    "executionInfo": {
     "elapsed": 8,
     "status": "ok",
     "timestamp": 1626315734315,
     "user": {
      "displayName": "zy chen",
      "photoUrl": "",
      "userId": "07200917309806265149"
     },
     "user_tz": 240
    },
    "id": "8WxDcr4uCecF",
    "outputId": "cf4f8b78-cba3-40d5-d96d-c1b708cb9040"
   },
   "outputs": [
    {
     "name": "stdout",
     "output_type": "stream",
     "text": [
      "<class 'pandas.core.frame.DataFrame'>\n",
      "RangeIndex: 35174 entries, 0 to 35173\n",
      "Data columns (total 8 columns):\n",
      " #   Column      Non-Null Count  Dtype \n",
      "---  ------      --------------  ----- \n",
      " 0   abstract    35174 non-null  object\n",
      " 1   authors     35174 non-null  object\n",
      " 2   n_citation  35174 non-null  int64 \n",
      " 3   references  35174 non-null  object\n",
      " 4   title       35174 non-null  object\n",
      " 5   venue       35174 non-null  object\n",
      " 6   year        35174 non-null  int64 \n",
      " 7   id          35174 non-null  object\n",
      "dtypes: int64(2), object(6)\n",
      "memory usage: 2.1+ MB\n"
     ]
    }
   ],
   "source": [
    "df.info()"
   ]
  },
  {
   "cell_type": "code",
   "execution_count": 12,
   "metadata": {
    "executionInfo": {
     "elapsed": 6,
     "status": "ok",
     "timestamp": 1626315734316,
     "user": {
      "displayName": "zy chen",
      "photoUrl": "",
      "userId": "07200917309806265149"
     },
     "user_tz": 240
    },
    "id": "CynXJRLzCi23"
   },
   "outputs": [],
   "source": [
    "# #cast text to lowercase for purposes of tf-idf processing\n",
    "# df['abstract']=df['abstract'].str.lower()\n",
    "# df['title']=df['title'].str.lower()"
   ]
  },
  {
   "cell_type": "code",
   "execution_count": 13,
   "metadata": {
    "executionInfo": {
     "elapsed": 5,
     "status": "ok",
     "timestamp": 1626315734316,
     "user": {
      "displayName": "zy chen",
      "photoUrl": "",
      "userId": "07200917309806265149"
     },
     "user_tz": 240
    },
    "id": "aspfJFx2Ckth"
   },
   "outputs": [],
   "source": [
    "df2=df.copy()"
   ]
  },
  {
   "cell_type": "code",
   "execution_count": 14,
   "metadata": {
    "executionInfo": {
     "elapsed": 5,
     "status": "ok",
     "timestamp": 1626315734316,
     "user": {
      "displayName": "zy chen",
      "photoUrl": "",
      "userId": "07200917309806265149"
     },
     "user_tz": 240
    },
    "id": "c-D0xXpyCmo_"
   },
   "outputs": [],
   "source": [
    "#combine text columns for tf-idf processing\n",
    "df2[\"text\"] = df[\"abstract\"] + df[\"title\"]\n",
    "del df2['abstract']\n",
    "del df2['title']"
   ]
  },
  {
   "cell_type": "code",
   "execution_count": 15,
   "metadata": {
    "executionInfo": {
     "elapsed": 4,
     "status": "ok",
     "timestamp": 1626315734316,
     "user": {
      "displayName": "zy chen",
      "photoUrl": "",
      "userId": "07200917309806265149"
     },
     "user_tz": 240
    },
    "id": "WvW4jugiCoyd"
   },
   "outputs": [],
   "source": [
    "df2['text']= df2['text'].astype(str)"
   ]
  },
  {
   "cell_type": "code",
   "execution_count": 16,
   "metadata": {
    "colab": {
     "base_uri": "https://localhost:8080/"
    },
    "executionInfo": {
     "elapsed": 379,
     "status": "ok",
     "timestamp": 1626315734691,
     "user": {
      "displayName": "zy chen",
      "photoUrl": "",
      "userId": "07200917309806265149"
     },
     "user_tz": 240
    },
    "id": "reLfh_EfCqnb",
    "outputId": "1da11415-db1b-49dc-c328-115dd4f22289"
   },
   "outputs": [
    {
     "name": "stdout",
     "output_type": "stream",
     "text": [
      "<class 'pandas.core.frame.DataFrame'>\n",
      "RangeIndex: 35174 entries, 0 to 35173\n",
      "Data columns (total 7 columns):\n",
      " #   Column      Non-Null Count  Dtype \n",
      "---  ------      --------------  ----- \n",
      " 0   authors     35174 non-null  object\n",
      " 1   n_citation  35174 non-null  int64 \n",
      " 2   references  35174 non-null  object\n",
      " 3   venue       35174 non-null  object\n",
      " 4   year        35174 non-null  int64 \n",
      " 5   id          35174 non-null  object\n",
      " 6   text        35174 non-null  object\n",
      "dtypes: int64(2), object(5)\n",
      "memory usage: 1.9+ MB\n"
     ]
    }
   ],
   "source": [
    "df2.info()"
   ]
  },
  {
   "cell_type": "code",
   "execution_count": 17,
   "metadata": {
    "executionInfo": {
     "elapsed": 4,
     "status": "ok",
     "timestamp": 1626315734692,
     "user": {
      "displayName": "zy chen",
      "photoUrl": "",
      "userId": "07200917309806265149"
     },
     "user_tz": 240
    },
    "id": "9WwIGxK3C1yS"
   },
   "outputs": [],
   "source": [
    "#remove stop words from columns\n",
    "# stop = stopwords.words('english')\n",
    "# df2[\"text\"] = df2[\"text\"].apply(lambda x: ' '.join([word for word in x.split() if word not in (stop)]))"
   ]
  },
  {
   "cell_type": "code",
   "execution_count": 18,
   "metadata": {
    "executionInfo": {
     "elapsed": 79792,
     "status": "ok",
     "timestamp": 1626315814481,
     "user": {
      "displayName": "zy chen",
      "photoUrl": "",
      "userId": "07200917309806265149"
     },
     "user_tz": 240
    },
    "id": "DB64tJxnC3sj"
   },
   "outputs": [],
   "source": [
    "stemmer = SnowballStemmer(\"english\")\n",
    "df2['stemmed'] = df2['text'].map(lambda x: ' '.join([stemmer.stem(y) for y in x.split(' ')]))"
   ]
  },
  {
   "cell_type": "code",
   "execution_count": 19,
   "metadata": {
    "colab": {
     "base_uri": "https://localhost:8080/"
    },
    "executionInfo": {
     "elapsed": 13,
     "status": "ok",
     "timestamp": 1626315814481,
     "user": {
      "displayName": "zy chen",
      "photoUrl": "",
      "userId": "07200917309806265149"
     },
     "user_tz": 240
    },
    "id": "WifU03muC5oD",
    "outputId": "e412e9bf-073d-4c4b-878f-09cebfb2cf51"
   },
   "outputs": [
    {
     "data": {
      "text/plain": [
       "CountVectorizer(analyzer='word', binary=False, decode_error='strict',\n",
       "                dtype=<class 'numpy.int64'>, encoding='utf-8', input='content',\n",
       "                lowercase=True, max_df=0.5, max_features=None, min_df=1,\n",
       "                ngram_range=(1, 2), preprocessor=None, stop_words='english',\n",
       "                strip_accents=None, token_pattern='(?u)\\\\b\\\\w\\\\w+\\\\b',\n",
       "                tokenizer=None, vocabulary=None)"
      ]
     },
     "execution_count": 19,
     "metadata": {
      "tags": []
     },
     "output_type": "execute_result"
    }
   ],
   "source": [
    "cvec = CountVectorizer(stop_words='english', min_df=1, max_df=.5, ngram_range=(1,2))\n",
    "cvec"
   ]
  },
  {
   "cell_type": "code",
   "execution_count": 20,
   "metadata": {
    "colab": {
     "base_uri": "https://localhost:8080/"
    },
    "executionInfo": {
     "elapsed": 18536,
     "status": "ok",
     "timestamp": 1626315833007,
     "user": {
      "displayName": "zy chen",
      "photoUrl": "",
      "userId": "07200917309806265149"
     },
     "user_tz": 240
    },
    "id": "aQzDCDOBC7xY",
    "outputId": "41ae0145-adb6-497e-8a0b-307c6b576f29"
   },
   "outputs": [
    {
     "data": {
      "text/plain": [
       "[('adaboost', 62571),\n",
       " ('algorithm', 83929),\n",
       " ('base', 170204),\n",
       " ('haarlik', 679294),\n",
       " ('featur', 591501),\n",
       " ('achiev', 53951),\n",
       " ('high', 695198),\n",
       " ('accuraci', 51410),\n",
       " ('abov', 42523),\n",
       " ('95', 38531),\n",
       " ('object', 1019728),\n",
       " ('detect', 428468),\n",
       " ('meanwhil', 906146),\n",
       " ('massiv', 896095),\n",
       " ('comput', 308015),\n",
       " ('power', 1134346),\n",
       " ('need', 982725),\n",
       " ('implement', 732745),\n",
       " ('cascad', 229985),\n",
       " ('classifi', 265063)]"
      ]
     },
     "execution_count": 20,
     "metadata": {
      "tags": []
     },
     "output_type": "execute_result"
    }
   ],
   "source": [
    "# Calculate all the n-grams found in all documents\n",
    "from itertools import islice\n",
    "cvec.fit(df2.stemmed)\n",
    "list(islice(cvec.vocabulary_.items(), 20))"
   ]
  },
  {
   "cell_type": "code",
   "execution_count": 21,
   "metadata": {
    "colab": {
     "base_uri": "https://localhost:8080/"
    },
    "executionInfo": {
     "elapsed": 15,
     "status": "ok",
     "timestamp": 1626315833007,
     "user": {
      "displayName": "zy chen",
      "photoUrl": "",
      "userId": "07200917309806265149"
     },
     "user_tz": 240
    },
    "id": "rWwEx5LfC9dH",
    "outputId": "ffbb2c81-f3b5-4b29-8dbd-7d31342cc61c"
   },
   "outputs": [
    {
     "data": {
      "text/plain": [
       "1671097"
      ]
     },
     "execution_count": 21,
     "metadata": {
      "tags": []
     },
     "output_type": "execute_result"
    }
   ],
   "source": [
    "len(cvec.vocabulary_)"
   ]
  },
  {
   "cell_type": "code",
   "execution_count": 22,
   "metadata": {
    "colab": {
     "base_uri": "https://localhost:8080/"
    },
    "executionInfo": {
     "elapsed": 18436,
     "status": "ok",
     "timestamp": 1626315851432,
     "user": {
      "displayName": "zy chen",
      "photoUrl": "",
      "userId": "07200917309806265149"
     },
     "user_tz": 240
    },
    "id": "VTYoApNDC_K-",
    "outputId": "d904a0e0-eed6-4f9c-db2e-d471d8308d26"
   },
   "outputs": [
    {
     "data": {
      "text/plain": [
       "3284"
      ]
     },
     "execution_count": 22,
     "metadata": {
      "tags": []
     },
     "output_type": "execute_result"
    }
   ],
   "source": [
    "cvec = CountVectorizer(stop_words='english', min_df=.003, max_df=.25, ngram_range=(1,2))\n",
    "cvec.fit(df2.stemmed)\n",
    "len(cvec.vocabulary_)"
   ]
  },
  {
   "cell_type": "code",
   "execution_count": 23,
   "metadata": {
    "colab": {
     "base_uri": "https://localhost:8080/"
    },
    "executionInfo": {
     "elapsed": 7311,
     "status": "ok",
     "timestamp": 1626315858733,
     "user": {
      "displayName": "zy chen",
      "photoUrl": "",
      "userId": "07200917309806265149"
     },
     "user_tz": 240
    },
    "id": "XtT81EgGDBY-",
    "outputId": "edc44456-340e-4fd2-b976-5ddd4febf4c0"
   },
   "outputs": [
    {
     "name": "stdout",
     "output_type": "stream",
     "text": [
      "sparse matrix shape: (35174, 3284)\n",
      "nonzero count: 1993480\n",
      "sparsity: 1.73%\n"
     ]
    }
   ],
   "source": [
    "cvec_counts = cvec.transform(df2.stemmed)\n",
    "print ('sparse matrix shape:', cvec_counts.shape)\n",
    "print ('nonzero count:', cvec_counts.nnz)\n",
    "print ('sparsity: %.2f%%' % (100.0 * cvec_counts.nnz / (cvec_counts.shape[0] * cvec_counts.shape[1])))"
   ]
  },
  {
   "cell_type": "code",
   "execution_count": 24,
   "metadata": {
    "colab": {
     "base_uri": "https://localhost:8080/",
     "height": 667
    },
    "executionInfo": {
     "elapsed": 17,
     "status": "ok",
     "timestamp": 1626315858734,
     "user": {
      "displayName": "zy chen",
      "photoUrl": "",
      "userId": "07200917309806265149"
     },
     "user_tz": 240
    },
    "id": "sEpR1wZVDDUk",
    "outputId": "8159ae4b-719e-4f90-f89a-c04c9b543a30"
   },
   "outputs": [
    {
     "data": {
      "text/html": [
       "<div>\n",
       "<style scoped>\n",
       "    .dataframe tbody tr th:only-of-type {\n",
       "        vertical-align: middle;\n",
       "    }\n",
       "\n",
       "    .dataframe tbody tr th {\n",
       "        vertical-align: top;\n",
       "    }\n",
       "\n",
       "    .dataframe thead th {\n",
       "        text-align: right;\n",
       "    }\n",
       "</style>\n",
       "<table border=\"1\" class=\"dataframe\">\n",
       "  <thead>\n",
       "    <tr style=\"text-align: right;\">\n",
       "      <th></th>\n",
       "      <th>term</th>\n",
       "      <th>occurrences</th>\n",
       "    </tr>\n",
       "  </thead>\n",
       "  <tbody>\n",
       "    <tr>\n",
       "      <th>1900</th>\n",
       "      <td>network</td>\n",
       "      <td>23123</td>\n",
       "    </tr>\n",
       "    <tr>\n",
       "      <th>2266</th>\n",
       "      <td>problem</td>\n",
       "      <td>15643</td>\n",
       "    </tr>\n",
       "    <tr>\n",
       "      <th>823</th>\n",
       "      <td>differ</td>\n",
       "      <td>13065</td>\n",
       "    </tr>\n",
       "    <tr>\n",
       "      <th>1428</th>\n",
       "      <td>inform</td>\n",
       "      <td>12925</td>\n",
       "    </tr>\n",
       "    <tr>\n",
       "      <th>2998</th>\n",
       "      <td>time</td>\n",
       "      <td>12884</td>\n",
       "    </tr>\n",
       "    <tr>\n",
       "      <th>560</th>\n",
       "      <td>comput</td>\n",
       "      <td>12612</td>\n",
       "    </tr>\n",
       "    <tr>\n",
       "      <th>783</th>\n",
       "      <td>design</td>\n",
       "      <td>12481</td>\n",
       "    </tr>\n",
       "    <tr>\n",
       "      <th>3149</th>\n",
       "      <td>user</td>\n",
       "      <td>11992</td>\n",
       "    </tr>\n",
       "    <tr>\n",
       "      <th>1359</th>\n",
       "      <td>imag</td>\n",
       "      <td>11900</td>\n",
       "    </tr>\n",
       "    <tr>\n",
       "      <th>2004</th>\n",
       "      <td>optim</td>\n",
       "      <td>11564</td>\n",
       "    </tr>\n",
       "    <tr>\n",
       "      <th>204</th>\n",
       "      <td>applic</td>\n",
       "      <td>11459</td>\n",
       "    </tr>\n",
       "    <tr>\n",
       "      <th>2275</th>\n",
       "      <td>process</td>\n",
       "      <td>11421</td>\n",
       "    </tr>\n",
       "    <tr>\n",
       "      <th>913</th>\n",
       "      <td>effect</td>\n",
       "      <td>10886</td>\n",
       "    </tr>\n",
       "    <tr>\n",
       "      <th>804</th>\n",
       "      <td>develop</td>\n",
       "      <td>10879</td>\n",
       "    </tr>\n",
       "    <tr>\n",
       "      <th>168</th>\n",
       "      <td>analysi</td>\n",
       "      <td>10804</td>\n",
       "    </tr>\n",
       "    <tr>\n",
       "      <th>622</th>\n",
       "      <td>control</td>\n",
       "      <td>10759</td>\n",
       "    </tr>\n",
       "    <tr>\n",
       "      <th>1564</th>\n",
       "      <td>learn</td>\n",
       "      <td>10534</td>\n",
       "    </tr>\n",
       "    <tr>\n",
       "      <th>1386</th>\n",
       "      <td>improv</td>\n",
       "      <td>10222</td>\n",
       "    </tr>\n",
       "    <tr>\n",
       "      <th>1117</th>\n",
       "      <td>featur</td>\n",
       "      <td>10075</td>\n",
       "    </tr>\n",
       "    <tr>\n",
       "      <th>793</th>\n",
       "      <td>detect</td>\n",
       "      <td>10070</td>\n",
       "    </tr>\n",
       "  </tbody>\n",
       "</table>\n",
       "</div>"
      ],
      "text/plain": [
       "         term  occurrences\n",
       "1900  network        23123\n",
       "2266  problem        15643\n",
       "823    differ        13065\n",
       "1428   inform        12925\n",
       "2998     time        12884\n",
       "560    comput        12612\n",
       "783    design        12481\n",
       "3149     user        11992\n",
       "1359     imag        11900\n",
       "2004    optim        11564\n",
       "204    applic        11459\n",
       "2275  process        11421\n",
       "913    effect        10886\n",
       "804   develop        10879\n",
       "168   analysi        10804\n",
       "622   control        10759\n",
       "1564    learn        10534\n",
       "1386   improv        10222\n",
       "1117   featur        10075\n",
       "793    detect        10070"
      ]
     },
     "execution_count": 24,
     "metadata": {
      "tags": []
     },
     "output_type": "execute_result"
    }
   ],
   "source": [
    "occ = np.asarray(cvec_counts.sum(axis=0)).ravel().tolist()\n",
    "counts_df = pd.DataFrame({'term': cvec.get_feature_names(), 'occurrences': occ})\n",
    "counts_df.sort_values(by='occurrences', ascending=False).head(20)"
   ]
  },
  {
   "cell_type": "code",
   "execution_count": 25,
   "metadata": {
    "colab": {
     "base_uri": "https://localhost:8080/",
     "height": 328
    },
    "executionInfo": {
     "elapsed": 331,
     "status": "ok",
     "timestamp": 1626315859051,
     "user": {
      "displayName": "zy chen",
      "photoUrl": "",
      "userId": "07200917309806265149"
     },
     "user_tz": 240
    },
    "id": "TUSIq_7H2-sQ",
    "outputId": "55f4883d-1b43-4ae3-9578-60b5131ccf12"
   },
   "outputs": [
    {
     "data": {
      "text/plain": [
       "<matplotlib.axes._subplots.AxesSubplot at 0x7f90650e9310>"
      ]
     },
     "execution_count": 25,
     "metadata": {
      "tags": []
     },
     "output_type": "execute_result"
    },
    {
     "data": {
      "image/png": "[encoded data removed]",
      "text/plain": [
       "<Figure size 432x288 with 1 Axes>"
      ]
     },
     "metadata": {
      "needs_background": "light",
      "tags": []
     },
     "output_type": "display_data"
    }
   ],
   "source": [
    "counts_df.sort_values(by='occurrences', ascending=False).head(20).plot.bar(x='term')"
   ]
  },
  {
   "cell_type": "code",
   "execution_count": 26,
   "metadata": {
    "colab": {
     "base_uri": "https://localhost:8080/"
    },
    "executionInfo": {
     "elapsed": 6,
     "status": "ok",
     "timestamp": 1626315859052,
     "user": {
      "displayName": "zy chen",
      "photoUrl": "",
      "userId": "07200917309806265149"
     },
     "user_tz": 240
    },
    "id": "4beDEgi9DFxP",
    "outputId": "d40a76ef-1ae3-4f2e-e4b9-b233d6e64381"
   },
   "outputs": [
    {
     "data": {
      "text/plain": [
       "<35174x3284 sparse matrix of type '<class 'numpy.float64'>'\n",
       "\twith 1993480 stored elements in Compressed Sparse Row format>"
      ]
     },
     "execution_count": 26,
     "metadata": {
      "tags": []
     },
     "output_type": "execute_result"
    }
   ],
   "source": [
    "transformer = TfidfTransformer()\n",
    "transformed_weights = transformer.fit_transform(cvec_counts)\n",
    "transformed_weights"
   ]
  },
  {
   "cell_type": "code",
   "execution_count": 27,
   "metadata": {
    "colab": {
     "base_uri": "https://localhost:8080/",
     "height": 667
    },
    "executionInfo": {
     "elapsed": 12,
     "status": "ok",
     "timestamp": 1626315859292,
     "user": {
      "displayName": "zy chen",
      "photoUrl": "",
      "userId": "07200917309806265149"
     },
     "user_tz": 240
    },
    "id": "TdV-S0HCDJ7N",
    "outputId": "4ddc6407-7e09-4513-d913-c45d2002cca9"
   },
   "outputs": [
    {
     "data": {
      "text/html": [
       "<div>\n",
       "<style scoped>\n",
       "    .dataframe tbody tr th:only-of-type {\n",
       "        vertical-align: middle;\n",
       "    }\n",
       "\n",
       "    .dataframe tbody tr th {\n",
       "        vertical-align: top;\n",
       "    }\n",
       "\n",
       "    .dataframe thead th {\n",
       "        text-align: right;\n",
       "    }\n",
       "</style>\n",
       "<table border=\"1\" class=\"dataframe\">\n",
       "  <thead>\n",
       "    <tr style=\"text-align: right;\">\n",
       "      <th></th>\n",
       "      <th>term</th>\n",
       "      <th>weight</th>\n",
       "    </tr>\n",
       "  </thead>\n",
       "  <tbody>\n",
       "    <tr>\n",
       "      <th>1900</th>\n",
       "      <td>network</td>\n",
       "      <td>0.026550</td>\n",
       "    </tr>\n",
       "    <tr>\n",
       "      <th>2266</th>\n",
       "      <td>problem</td>\n",
       "      <td>0.018491</td>\n",
       "    </tr>\n",
       "    <tr>\n",
       "      <th>1359</th>\n",
       "      <td>imag</td>\n",
       "      <td>0.017529</td>\n",
       "    </tr>\n",
       "    <tr>\n",
       "      <th>622</th>\n",
       "      <td>control</td>\n",
       "      <td>0.016351</td>\n",
       "    </tr>\n",
       "    <tr>\n",
       "      <th>3149</th>\n",
       "      <td>user</td>\n",
       "      <td>0.016093</td>\n",
       "    </tr>\n",
       "    <tr>\n",
       "      <th>783</th>\n",
       "      <td>design</td>\n",
       "      <td>0.015851</td>\n",
       "    </tr>\n",
       "    <tr>\n",
       "      <th>560</th>\n",
       "      <td>comput</td>\n",
       "      <td>0.015814</td>\n",
       "    </tr>\n",
       "    <tr>\n",
       "      <th>1428</th>\n",
       "      <td>inform</td>\n",
       "      <td>0.015417</td>\n",
       "    </tr>\n",
       "    <tr>\n",
       "      <th>2004</th>\n",
       "      <td>optim</td>\n",
       "      <td>0.015345</td>\n",
       "    </tr>\n",
       "    <tr>\n",
       "      <th>2998</th>\n",
       "      <td>time</td>\n",
       "      <td>0.015192</td>\n",
       "    </tr>\n",
       "    <tr>\n",
       "      <th>1564</th>\n",
       "      <td>learn</td>\n",
       "      <td>0.015089</td>\n",
       "    </tr>\n",
       "    <tr>\n",
       "      <th>793</th>\n",
       "      <td>detect</td>\n",
       "      <td>0.014639</td>\n",
       "    </tr>\n",
       "    <tr>\n",
       "      <th>823</th>\n",
       "      <td>differ</td>\n",
       "      <td>0.014445</td>\n",
       "    </tr>\n",
       "    <tr>\n",
       "      <th>204</th>\n",
       "      <td>applic</td>\n",
       "      <td>0.014272</td>\n",
       "    </tr>\n",
       "    <tr>\n",
       "      <th>2275</th>\n",
       "      <td>process</td>\n",
       "      <td>0.014237</td>\n",
       "    </tr>\n",
       "    <tr>\n",
       "      <th>1117</th>\n",
       "      <td>featur</td>\n",
       "      <td>0.013748</td>\n",
       "    </tr>\n",
       "    <tr>\n",
       "      <th>168</th>\n",
       "      <td>analysi</td>\n",
       "      <td>0.013648</td>\n",
       "    </tr>\n",
       "    <tr>\n",
       "      <th>804</th>\n",
       "      <td>develop</td>\n",
       "      <td>0.013214</td>\n",
       "    </tr>\n",
       "    <tr>\n",
       "      <th>1000</th>\n",
       "      <td>estim</td>\n",
       "      <td>0.013003</td>\n",
       "    </tr>\n",
       "    <tr>\n",
       "      <th>1924</th>\n",
       "      <td>new</td>\n",
       "      <td>0.012659</td>\n",
       "    </tr>\n",
       "  </tbody>\n",
       "</table>\n",
       "</div>"
      ],
      "text/plain": [
       "         term    weight\n",
       "1900  network  0.026550\n",
       "2266  problem  0.018491\n",
       "1359     imag  0.017529\n",
       "622   control  0.016351\n",
       "3149     user  0.016093\n",
       "783    design  0.015851\n",
       "560    comput  0.015814\n",
       "1428   inform  0.015417\n",
       "2004    optim  0.015345\n",
       "2998     time  0.015192\n",
       "1564    learn  0.015089\n",
       "793    detect  0.014639\n",
       "823    differ  0.014445\n",
       "204    applic  0.014272\n",
       "2275  process  0.014237\n",
       "1117   featur  0.013748\n",
       "168   analysi  0.013648\n",
       "804   develop  0.013214\n",
       "1000    estim  0.013003\n",
       "1924      new  0.012659"
      ]
     },
     "execution_count": 27,
     "metadata": {
      "tags": []
     },
     "output_type": "execute_result"
    }
   ],
   "source": [
    "weights = np.asarray(transformed_weights.mean(axis=0)).ravel().tolist()\n",
    "weights_df = pd.DataFrame({'term': cvec.get_feature_names(), 'weight': weights})\n",
    "weights_df.sort_values(by='weight', ascending=False).head(20)"
   ]
  },
  {
   "cell_type": "code",
   "execution_count": 28,
   "metadata": {
    "colab": {
     "base_uri": "https://localhost:8080/",
     "height": 288
    },
    "executionInfo": {
     "elapsed": 11,
     "status": "ok",
     "timestamp": 1626315859293,
     "user": {
      "displayName": "zy chen",
      "photoUrl": "",
      "userId": "07200917309806265149"
     },
     "user_tz": 240
    },
    "id": "VKf6z6QpDL-4",
    "outputId": "b4aacccb-a087-4066-8832-90d685ceeeca"
   },
   "outputs": [
    {
     "data": {
      "text/html": [
       "<div>\n",
       "<style scoped>\n",
       "    .dataframe tbody tr th:only-of-type {\n",
       "        vertical-align: middle;\n",
       "    }\n",
       "\n",
       "    .dataframe tbody tr th {\n",
       "        vertical-align: top;\n",
       "    }\n",
       "\n",
       "    .dataframe thead th {\n",
       "        text-align: right;\n",
       "    }\n",
       "</style>\n",
       "<table border=\"1\" class=\"dataframe\">\n",
       "  <thead>\n",
       "    <tr style=\"text-align: right;\">\n",
       "      <th></th>\n",
       "      <th>authors</th>\n",
       "      <th>n_citation</th>\n",
       "      <th>references</th>\n",
       "      <th>venue</th>\n",
       "      <th>year</th>\n",
       "      <th>id</th>\n",
       "      <th>text</th>\n",
       "      <th>stemmed</th>\n",
       "    </tr>\n",
       "  </thead>\n",
       "  <tbody>\n",
       "    <tr>\n",
       "      <th>0</th>\n",
       "      <td>[Zheng Xu, Runbin Shi, Zhihao Sun, Yaqi Li, Yu...</td>\n",
       "      <td>0</td>\n",
       "      <td>[0a11984c-ab6e-4b75-9291-e1b700c98d52, 1f4152a...</td>\n",
       "      <td>high performance computing and communications</td>\n",
       "      <td>2016</td>\n",
       "      <td>001eef4f-1d00-4ae6-8b4f-7e66344bbc6e</td>\n",
       "      <td>AdaBoost algorithm based on Haarlike features ...</td>\n",
       "      <td>adaboost algorithm base on haarlik featur can ...</td>\n",
       "    </tr>\n",
       "    <tr>\n",
       "      <th>1</th>\n",
       "      <td>[Yufei Liang, Yan Zhang, Tao Dong, Shan-wei Lu]</td>\n",
       "      <td>0</td>\n",
       "      <td>[]</td>\n",
       "      <td>international conference on conceptual structures</td>\n",
       "      <td>2016</td>\n",
       "      <td>002e0b7e-d62f-4140-b015-1fe29a9acbaa</td>\n",
       "      <td>In this paper a kind of novel jigsaw EBG struc...</td>\n",
       "      <td>in this paper a kind of novel jigsaw ebg struc...</td>\n",
       "    </tr>\n",
       "    <tr>\n",
       "      <th>2</th>\n",
       "      <td>[Xiaodong Ai, Keyou You, Shiji Song]</td>\n",
       "      <td>0</td>\n",
       "      <td>[1862a08a-08c6-4ab1-a214-8932bbd0d2d9, 7bcea2f...</td>\n",
       "      <td>international conference on control, automatio...</td>\n",
       "      <td>2016</td>\n",
       "      <td>00352759-f0a7-4678-82ae-fed68c700da6</td>\n",
       "      <td>This paper studies the problem of using an aut...</td>\n",
       "      <td>this paper studi the problem of use an autonom...</td>\n",
       "    </tr>\n",
       "    <tr>\n",
       "      <th>3</th>\n",
       "      <td>[Vincent Buntinx, Cyril Bornet, Frédéric Kaplan]</td>\n",
       "      <td>0</td>\n",
       "      <td>[426b57a8-2e7d-498d-9a57-c09983ae0699, 6499d57...</td>\n",
       "      <td>Frontiers in Digital Humanities</td>\n",
       "      <td>2017</td>\n",
       "      <td>01522369-3b88-4256-99d4-4e0c1de9f1ba</td>\n",
       "      <td>This paper presents a methodology to analyze l...</td>\n",
       "      <td>this paper present a methodolog to analyz ling...</td>\n",
       "    </tr>\n",
       "    <tr>\n",
       "      <th>4</th>\n",
       "      <td>[Ankit Verma, Monika Sharma, Ramya Hebbalagupp...</td>\n",
       "      <td>0</td>\n",
       "      <td>[3e3a4245-eb62-4769-bc84-1001479df701, 42f6b97...</td>\n",
       "      <td>international conference on machine learning a...</td>\n",
       "      <td>2016</td>\n",
       "      <td>017440d5-6ba8-422a-bd7a-d59e3b9a4e77</td>\n",
       "      <td>Container identification and recognition is st...</td>\n",
       "      <td>contain identif and recognit is still perform ...</td>\n",
       "    </tr>\n",
       "  </tbody>\n",
       "</table>\n",
       "</div>"
      ],
      "text/plain": [
       "                                             authors  ...                                            stemmed\n",
       "0  [Zheng Xu, Runbin Shi, Zhihao Sun, Yaqi Li, Yu...  ...  adaboost algorithm base on haarlik featur can ...\n",
       "1    [Yufei Liang, Yan Zhang, Tao Dong, Shan-wei Lu]  ...  in this paper a kind of novel jigsaw ebg struc...\n",
       "2               [Xiaodong Ai, Keyou You, Shiji Song]  ...  this paper studi the problem of use an autonom...\n",
       "3   [Vincent Buntinx, Cyril Bornet, Frédéric Kaplan]  ...  this paper present a methodolog to analyz ling...\n",
       "4  [Ankit Verma, Monika Sharma, Ramya Hebbalagupp...  ...  contain identif and recognit is still perform ...\n",
       "\n",
       "[5 rows x 8 columns]"
      ]
     },
     "execution_count": 28,
     "metadata": {
      "tags": []
     },
     "output_type": "execute_result"
    }
   ],
   "source": [
    "df2.head()"
   ]
  },
  {
   "cell_type": "code",
   "execution_count": 29,
   "metadata": {
    "colab": {
     "base_uri": "https://localhost:8080/"
    },
    "executionInfo": {
     "elapsed": 9,
     "status": "ok",
     "timestamp": 1626315859293,
     "user": {
      "displayName": "zy chen",
      "photoUrl": "",
      "userId": "07200917309806265149"
     },
     "user_tz": 240
    },
    "id": "8v5Ah2TvDNo9",
    "outputId": "18aca7ca-bded-4d38-f0ed-556240405d71"
   },
   "outputs": [
    {
     "name": "stdout",
     "output_type": "stream",
     "text": [
      "<class 'pandas.core.frame.DataFrame'>\n",
      "RangeIndex: 35174 entries, 0 to 35173\n",
      "Data columns (total 8 columns):\n",
      " #   Column      Non-Null Count  Dtype \n",
      "---  ------      --------------  ----- \n",
      " 0   authors     35174 non-null  object\n",
      " 1   n_citation  35174 non-null  int64 \n",
      " 2   references  35174 non-null  object\n",
      " 3   venue       35174 non-null  object\n",
      " 4   year        35174 non-null  int64 \n",
      " 5   id          35174 non-null  object\n",
      " 6   text        35174 non-null  object\n",
      " 7   stemmed     35174 non-null  object\n",
      "dtypes: int64(2), object(6)\n",
      "memory usage: 2.1+ MB\n"
     ]
    }
   ],
   "source": [
    "df2.info()"
   ]
  },
  {
   "cell_type": "code",
   "execution_count": 30,
   "metadata": {
    "colab": {
     "base_uri": "https://localhost:8080/",
     "height": 204
    },
    "executionInfo": {
     "elapsed": 249,
     "status": "ok",
     "timestamp": 1626315859535,
     "user": {
      "displayName": "zy chen",
      "photoUrl": "",
      "userId": "07200917309806265149"
     },
     "user_tz": 240
    },
    "id": "Qmc0iQOAiwGG",
    "outputId": "98bfaea8-b6c8-4608-8a75-5030b6e99617"
   },
   "outputs": [
    {
     "data": {
      "text/html": [
       "<div>\n",
       "<style scoped>\n",
       "    .dataframe tbody tr th:only-of-type {\n",
       "        vertical-align: middle;\n",
       "    }\n",
       "\n",
       "    .dataframe tbody tr th {\n",
       "        vertical-align: top;\n",
       "    }\n",
       "\n",
       "    .dataframe thead th {\n",
       "        text-align: right;\n",
       "    }\n",
       "</style>\n",
       "<table border=\"1\" class=\"dataframe\">\n",
       "  <thead>\n",
       "    <tr style=\"text-align: right;\">\n",
       "      <th></th>\n",
       "      <th>id</th>\n",
       "      <th>references</th>\n",
       "    </tr>\n",
       "  </thead>\n",
       "  <tbody>\n",
       "    <tr>\n",
       "      <th>0</th>\n",
       "      <td>001eef4f-1d00-4ae6-8b4f-7e66344bbc6e</td>\n",
       "      <td>0a11984c-ab6e-4b75-9291-e1b700c98d52</td>\n",
       "    </tr>\n",
       "    <tr>\n",
       "      <th>0</th>\n",
       "      <td>001eef4f-1d00-4ae6-8b4f-7e66344bbc6e</td>\n",
       "      <td>1f4152a3-481f-4adf-a29a-2193a3d4303c</td>\n",
       "    </tr>\n",
       "    <tr>\n",
       "      <th>0</th>\n",
       "      <td>001eef4f-1d00-4ae6-8b4f-7e66344bbc6e</td>\n",
       "      <td>3c2ddf0a-237b-4d17-8083-c90df5f3514b</td>\n",
       "    </tr>\n",
       "    <tr>\n",
       "      <th>0</th>\n",
       "      <td>001eef4f-1d00-4ae6-8b4f-7e66344bbc6e</td>\n",
       "      <td>522ce553-29ea-4e0b-9ad3-0ed4eb9de065</td>\n",
       "    </tr>\n",
       "    <tr>\n",
       "      <th>0</th>\n",
       "      <td>001eef4f-1d00-4ae6-8b4f-7e66344bbc6e</td>\n",
       "      <td>579e5f24-5b13-4e92-b255-0c46d066e306</td>\n",
       "    </tr>\n",
       "  </tbody>\n",
       "</table>\n",
       "</div>"
      ],
      "text/plain": [
       "                                     id                            references\n",
       "0  001eef4f-1d00-4ae6-8b4f-7e66344bbc6e  0a11984c-ab6e-4b75-9291-e1b700c98d52\n",
       "0  001eef4f-1d00-4ae6-8b4f-7e66344bbc6e  1f4152a3-481f-4adf-a29a-2193a3d4303c\n",
       "0  001eef4f-1d00-4ae6-8b4f-7e66344bbc6e  3c2ddf0a-237b-4d17-8083-c90df5f3514b\n",
       "0  001eef4f-1d00-4ae6-8b4f-7e66344bbc6e  522ce553-29ea-4e0b-9ad3-0ed4eb9de065\n",
       "0  001eef4f-1d00-4ae6-8b4f-7e66344bbc6e  579e5f24-5b13-4e92-b255-0c46d066e306"
      ]
     },
     "execution_count": 30,
     "metadata": {
      "tags": []
     },
     "output_type": "execute_result"
    }
   ],
   "source": [
    "dfG=df2[['id', 'references']].copy()\n",
    "dfG.set_index(['id'])\n",
    "dfG['references'].tolist()\n",
    "dfG=dfG.explode('references')\n",
    "dfG.head()"
   ]
  },
  {
   "cell_type": "code",
   "execution_count": 31,
   "metadata": {
    "executionInfo": {
     "elapsed": 2739,
     "status": "ok",
     "timestamp": 1626315862269,
     "user": {
      "displayName": "zy chen",
      "photoUrl": "",
      "userId": "07200917309806265149"
     },
     "user_tz": 240
    },
    "id": "vNdaxKQei_kD"
   },
   "outputs": [],
   "source": [
    "G = nx.from_pandas_edgelist(dfG, source='id', target='references', create_using=nx.DiGraph)"
   ]
  },
  {
   "cell_type": "code",
   "execution_count": 59,
   "metadata": {
    "colab": {
     "base_uri": "https://localhost:8080/"
    },
    "executionInfo": {
     "elapsed": 9,
     "status": "ok",
     "timestamp": 1626319087606,
     "user": {
      "displayName": "zy chen",
      "photoUrl": "",
      "userId": "07200917309806265149"
     },
     "user_tz": 240
    },
    "id": "Xo7fSM8fK71V",
    "outputId": "f569d2fa-2a25-44fc-ea4a-7543de6661b4"
   },
   "outputs": [
    {
     "data": {
      "text/plain": [
       "False"
      ]
     },
     "execution_count": 59,
     "metadata": {
      "tags": []
     },
     "output_type": "execute_result"
    }
   ],
   "source": [
    "# Check if Graph is 'bipartite'\n",
    "bi.is_bipartite(G)"
   ]
  },
  {
   "cell_type": "code",
   "execution_count": 32,
   "metadata": {
    "colab": {
     "base_uri": "https://localhost:8080/"
    },
    "executionInfo": {
     "elapsed": 680,
     "status": "ok",
     "timestamp": 1626315862945,
     "user": {
      "displayName": "zy chen",
      "photoUrl": "",
      "userId": "07200917309806265149"
     },
     "user_tz": 240
    },
    "id": "Br7hDmHW4l69",
    "outputId": "b8e54cfd-ea6e-482d-ad61-54a97b657451"
   },
   "outputs": [
    {
     "name": "stdout",
     "output_type": "stream",
     "text": [
      "Name: \n",
      "Type: DiGraph\n",
      "Number of nodes: 300110\n",
      "Number of edges: 446228\n",
      "Average in degree:   1.4869\n",
      "Average out degree:   1.4869\n"
     ]
    }
   ],
   "source": [
    "print(nx.info(G))"
   ]
  },
  {
   "cell_type": "code",
   "execution_count": 33,
   "metadata": {
    "colab": {
     "base_uri": "https://localhost:8080/"
    },
    "executionInfo": {
     "elapsed": 403,
     "status": "ok",
     "timestamp": 1626315863345,
     "user": {
      "displayName": "zy chen",
      "photoUrl": "",
      "userId": "07200917309806265149"
     },
     "user_tz": 240
    },
    "id": "PT6qgaPZ5On3",
    "outputId": "8c845789-1f86-400a-f304-df5266544555"
   },
   "outputs": [
    {
     "name": "stdout",
     "output_type": "stream",
     "text": [
      "Number of Nodes: 300110\n",
      "Number of Edges: 446228\n"
     ]
    }
   ],
   "source": [
    "print(\"Number of Nodes: \" + str(nx.number_of_nodes(G)))\n",
    "print(\"Number of Edges: \" + str(nx.number_of_edges(G)))"
   ]
  },
  {
   "cell_type": "code",
   "execution_count": 34,
   "metadata": {
    "executionInfo": {
     "elapsed": 552,
     "status": "ok",
     "timestamp": 1626315863895,
     "user": {
      "displayName": "zy chen",
      "photoUrl": "",
      "userId": "07200917309806265149"
     },
     "user_tz": 240
    },
    "id": "mbAy6iSF91vT"
   },
   "outputs": [],
   "source": [
    "#import node attributes\n",
    "nx.set_node_attributes(G, df2.set_index('id').to_dict('index'))"
   ]
  },
  {
   "cell_type": "code",
   "execution_count": 39,
   "metadata": {
    "colab": {
     "base_uri": "https://localhost:8080/"
    },
    "executionInfo": {
     "elapsed": 284,
     "status": "ok",
     "timestamp": 1626315921254,
     "user": {
      "displayName": "zy chen",
      "photoUrl": "",
      "userId": "07200917309806265149"
     },
     "user_tz": 240
    },
    "id": "Lo7LU8-b92Ic",
    "outputId": "82026810-448f-4d67-a020-2ab9ae614918"
   },
   "outputs": [
    {
     "data": {
      "text/plain": [
       "2016"
      ]
     },
     "execution_count": 39,
     "metadata": {
      "tags": []
     },
     "output_type": "execute_result"
    }
   ],
   "source": [
    "#test to make sure node attributes are imported\n",
    "id1='ac2881d3-90aa-4610-b622-188afa7457f6'\n",
    "year=nx.get_node_attributes(G,'year')\n",
    "year[id1]"
   ]
  },
  {
   "cell_type": "code",
   "execution_count": 40,
   "metadata": {
    "colab": {
     "base_uri": "https://localhost:8080/",
     "height": 1000
    },
    "executionInfo": {
     "elapsed": 1693,
     "status": "ok",
     "timestamp": 1626315959719,
     "user": {
      "displayName": "zy chen",
      "photoUrl": "",
      "userId": "07200917309806265149"
     },
     "user_tz": 240
    },
    "id": "Dl7_y2b492V-",
    "outputId": "ea88d280-2ee4-4a9c-c51b-4e1636a5c0bd"
   },
   "outputs": [
    {
     "data": {
      "image/png": "[encoded data removed]",
      "text/plain": [
       "<Figure size 1080x1080 with 1 Axes>"
      ]
     },
     "metadata": {
      "tags": []
     },
     "output_type": "display_data"
    }
   ],
   "source": [
    "H= nx.ego_graph(G, id1, radius=2)\n",
    "plt.figure(figsize = [15,15]) \n",
    "pos = nx.spring_layout(H) \n",
    "nx.draw(H, with_labels=True, node_size = 20 , node_color = 'lightblue')\n",
    "plt.savefig('cite.png')"
   ]
  },
  {
   "cell_type": "code",
   "execution_count": 41,
   "metadata": {
    "executionInfo": {
     "elapsed": 290,
     "status": "ok",
     "timestamp": 1626316024017,
     "user": {
      "displayName": "zy chen",
      "photoUrl": "",
      "userId": "07200917309806265149"
     },
     "user_tz": 240
    },
    "id": "qPB08ia2-7j3"
   },
   "outputs": [],
   "source": [
    "Gsub = G.subgraph(list(G.nodes)[0:25000])"
   ]
  },
  {
   "cell_type": "code",
   "execution_count": 60,
   "metadata": {
    "colab": {
     "base_uri": "https://localhost:8080/",
     "height": 1000
    },
    "executionInfo": {
     "elapsed": 1461,
     "status": "ok",
     "timestamp": 1626319873817,
     "user": {
      "displayName": "zy chen",
      "photoUrl": "",
      "userId": "07200917309806265149"
     },
     "user_tz": 240
    },
    "id": "Og5sMPGD_RJZ",
    "outputId": "c558a84e-1c5f-491b-c726-68e5dd47f4a4"
   },
   "outputs": [
    {
     "data": {
      "image/png": "[encoded data removed]",
      "text/plain": [
       "<Figure size 1080x1080 with 1 Axes>"
      ]
     },
     "metadata": {
      "tags": []
     },
     "output_type": "display_data"
    }
   ],
   "source": [
    "I= Gsub.subgraph(random.sample(list(Gsub.nodes), 2500))\n",
    "plt.figure(figsize = [15,15]) \n",
    "pos = nx.spring_layout(H) \n",
    "nx.draw(H, with_labels=False, node_size = 10 , node_color = 'lightblue')\n",
    "plt.title(f'Random Subgraph of citation network papers')\n",
    "plt.savefig('cite.png')"
   ]
  },
  {
   "cell_type": "markdown",
   "metadata": {},
   "source": [
    "# Explore Centrality Metrics"
   ]
  },
  {
   "cell_type": "code",
   "execution_count": 63,
   "metadata": {
    "colab": {
     "base_uri": "https://localhost:8080/"
    },
    "executionInfo": {
     "elapsed": 1858,
     "status": "ok",
     "timestamp": 1626322158718,
     "user": {
      "displayName": "zy chen",
      "photoUrl": "",
      "userId": "07200917309806265149"
     },
     "user_tz": 240
    },
    "id": "Nc8NKNPbGzjJ",
    "outputId": "806da329-5443-4ac8-8e76-b61bde22b83e"
   },
   "outputs": [
    {
     "name": "stdout",
     "output_type": "stream",
     "text": [
      "Top 10 highest Degree:\n"
     ]
    },
    {
     "data": {
      "text/plain": [
       "[('d208a857-3da2-49ae-ada3-4a4d2c2083fd', 98),\n",
       " ('77117870-ada0-4fb8-b790-b2dae0b394f7', 87),\n",
       " ('0dde46d3-c56f-4862-8931-793ecb82df64', 73),\n",
       " (nan, 72),\n",
       " ('e7d9127a-4593-4b8f-a650-7c4d42078d28', 70),\n",
       " ('eaf93658-511c-43de-8cfd-7f85e37d06eb', 63),\n",
       " ('19858632-a538-44f4-9062-aa6af347b691', 60),\n",
       " ('69de0ae5-d873-417d-84d7-bf1e4ace6f54', 56),\n",
       " ('7d8be125-2c77-494e-b0b0-daecba38ecf2', 54),\n",
       " ('2c70bb04-9dac-4b32-9a4a-e8619ade312d', 51)]"
      ]
     },
     "execution_count": 63,
     "metadata": {
      "tags": []
     },
     "output_type": "execute_result"
    }
   ],
   "source": [
    "# look at degree centrality\n",
    "deg = nx.degree_centrality(Gsub)\n",
    "deg_list = sorted(Gsub.degree, key=lambda x: x[1], reverse=True)\n",
    "print (\"Top 10 highest Degree:\")\n",
    "deg_list[0:10]"
   ]
  },
  {
   "cell_type": "code",
   "execution_count": 48,
   "metadata": {
    "colab": {
     "base_uri": "https://localhost:8080/"
    },
    "executionInfo": {
     "elapsed": 1250,
     "status": "ok",
     "timestamp": 1626316317912,
     "user": {
      "displayName": "zy chen",
      "photoUrl": "",
      "userId": "07200917309806265149"
     },
     "user_tz": 240
    },
    "id": "s5suKg9dHcv6",
    "outputId": "8698bd70-4878-41f7-d109-853ab8a595fd"
   },
   "outputs": [
    {
     "name": "stdout",
     "output_type": "stream",
     "text": [
      "Top 10 highest Closeness:\n"
     ]
    },
    {
     "data": {
      "text/plain": [
       "[(nan, 0.0028806557667712114),\n",
       " ('153c5014-dc7a-44a8-a93f-5cd27f1193df', 0.0010015215423431752),\n",
       " ('bff1945c-7b01-4b42-b6c4-1e3601c18a6b', 0.0009600384015360614),\n",
       " ('e2f7a74a-8430-4463-94ce-fe85dfd309f9', 0.0009259629644445038),\n",
       " ('fb0a382c-a1f1-4f0c-8e80-36fe5fbbfb86', 0.0008400336013440538),\n",
       " ('796ced28-1059-4c2d-a42f-d62028463f9a', 0.0007600304012160486),\n",
       " ('f6bd8b64-684d-429a-aab5-8ff3a2c23cd6', 0.0006800272010880435),\n",
       " ('b0c0cebf-991f-4f49-b4ea-46bd412caba9', 0.0006800272010880435),\n",
       " ('2b6a3d0f-368f-45bb-be23-4e82f62fbbf7', 0.0006800272010880435),\n",
       " ('12f40b38-cd99-4801-8074-d765a29a2101', 0.0006023770362579209)]"
      ]
     },
     "execution_count": 48,
     "metadata": {
      "tags": []
     },
     "output_type": "execute_result"
    }
   ],
   "source": [
    "# look at closeness centrality\n",
    "closeness_cen = nx.closeness_centrality(Gsub)\n",
    "closeness_list = sorted(closeness_cen.items(), key=lambda x: x[1], reverse=True)\n",
    "\n",
    "print (\"Top 10 highest Closeness:\")\n",
    "closeness_list[0:10]"
   ]
  },
  {
   "cell_type": "code",
   "execution_count": 49,
   "metadata": {
    "colab": {
     "base_uri": "https://localhost:8080/"
    },
    "executionInfo": {
     "elapsed": 2810,
     "status": "ok",
     "timestamp": 1626316331542,
     "user": {
      "displayName": "zy chen",
      "photoUrl": "",
      "userId": "07200917309806265149"
     },
     "user_tz": 240
    },
    "id": "Gedae8A2PNhF",
    "outputId": "78916a64-aa71-4b89-dbd1-188f6dc81fb2"
   },
   "outputs": [
    {
     "name": "stdout",
     "output_type": "stream",
     "text": [
      "Top 10 highest Eigenvector:\n"
     ]
    },
    {
     "data": {
      "text/plain": [
       "[('9d8465b5-c7bb-4080-be81-385d265030cd', 0.3159807823712953),\n",
       " ('d8a4e5b7-2ddf-45c8-8b97-9f72c261eba1', 0.3159807823712953),\n",
       " ('c386124a-ef27-4d52-a323-4941c0277f2a', 0.2764831382257703),\n",
       " ('1973143d-036f-434b-8570-4acb3308369c', 0.2764831382257703),\n",
       " ('95cb467a-4887-4b11-8e8a-4d14a3acefc4', 0.2369856212092412),\n",
       " ('5c6c859b-47d7-4095-80d2-cdd91a65be75', 0.2369856212092412),\n",
       " ('11997fa1-0571-413a-bacd-4ae3162353dd', 0.2369856212092412),\n",
       " ('004b7183-1fb5-4e08-b29a-87c679316171', 0.2369856212092412),\n",
       " ('b14e31c1-cbf2-4313-a88e-b9e31f99747e', 0.15799046004718706),\n",
       " ('509625c3-0fcd-44fe-aaa9-5726ae9bb09c', 0.11849396006262443)]"
      ]
     },
     "execution_count": 49,
     "metadata": {
      "tags": []
     },
     "output_type": "execute_result"
    }
   ],
   "source": [
    "# look at eigenvector centrality\n",
    "eigenvector_cen = nx.eigenvector_centrality(Gsub)\n",
    "eigenvector_list = sorted(eigenvector_cen.items(), key=lambda x:x[1], reverse=True)\n",
    "\n",
    "print(\"Top 10 highest Eigenvector:\")\n",
    "eigenvector_list[0:10]"
   ]
  },
  {
   "cell_type": "code",
   "execution_count": 51,
   "metadata": {
    "colab": {
     "base_uri": "https://localhost:8080/",
     "height": 358
    },
    "executionInfo": {
     "elapsed": 261,
     "status": "ok",
     "timestamp": 1626317629273,
     "user": {
      "displayName": "zy chen",
      "photoUrl": "",
      "userId": "07200917309806265149"
     },
     "user_tz": 240
    },
    "id": "Uw4yaNkMPZQe",
    "outputId": "4eeaa7c7-c267-4244-b52c-814b80ccacce"
   },
   "outputs": [
    {
     "data": {
      "text/html": [
       "<div>\n",
       "<style scoped>\n",
       "    .dataframe tbody tr th:only-of-type {\n",
       "        vertical-align: middle;\n",
       "    }\n",
       "\n",
       "    .dataframe tbody tr th {\n",
       "        vertical-align: top;\n",
       "    }\n",
       "\n",
       "    .dataframe thead th {\n",
       "        text-align: right;\n",
       "    }\n",
       "</style>\n",
       "<table border=\"1\" class=\"dataframe\">\n",
       "  <thead>\n",
       "    <tr style=\"text-align: right;\">\n",
       "      <th></th>\n",
       "      <th>Node</th>\n",
       "      <th>Degree</th>\n",
       "      <th>Node</th>\n",
       "      <th>Closeness</th>\n",
       "      <th>Node</th>\n",
       "      <th>Eigenvector</th>\n",
       "    </tr>\n",
       "  </thead>\n",
       "  <tbody>\n",
       "    <tr>\n",
       "      <th>0</th>\n",
       "      <td>d208a857-3da2-49ae-ada3-4a4d2c2083fd</td>\n",
       "      <td>98</td>\n",
       "      <td>nan</td>\n",
       "      <td>0.0028806557667712114</td>\n",
       "      <td>9d8465b5-c7bb-4080-be81-385d265030cd</td>\n",
       "      <td>0.3159807823712953</td>\n",
       "    </tr>\n",
       "    <tr>\n",
       "      <th>1</th>\n",
       "      <td>77117870-ada0-4fb8-b790-b2dae0b394f7</td>\n",
       "      <td>87</td>\n",
       "      <td>153c5014-dc7a-44a8-a93f-5cd27f1193df</td>\n",
       "      <td>0.0010015215423431752</td>\n",
       "      <td>d8a4e5b7-2ddf-45c8-8b97-9f72c261eba1</td>\n",
       "      <td>0.3159807823712953</td>\n",
       "    </tr>\n",
       "    <tr>\n",
       "      <th>2</th>\n",
       "      <td>0dde46d3-c56f-4862-8931-793ecb82df64</td>\n",
       "      <td>73</td>\n",
       "      <td>bff1945c-7b01-4b42-b6c4-1e3601c18a6b</td>\n",
       "      <td>0.0009600384015360614</td>\n",
       "      <td>c386124a-ef27-4d52-a323-4941c0277f2a</td>\n",
       "      <td>0.2764831382257703</td>\n",
       "    </tr>\n",
       "    <tr>\n",
       "      <th>3</th>\n",
       "      <td>nan</td>\n",
       "      <td>72</td>\n",
       "      <td>e2f7a74a-8430-4463-94ce-fe85dfd309f9</td>\n",
       "      <td>0.0009259629644445038</td>\n",
       "      <td>1973143d-036f-434b-8570-4acb3308369c</td>\n",
       "      <td>0.2764831382257703</td>\n",
       "    </tr>\n",
       "    <tr>\n",
       "      <th>4</th>\n",
       "      <td>e7d9127a-4593-4b8f-a650-7c4d42078d28</td>\n",
       "      <td>70</td>\n",
       "      <td>fb0a382c-a1f1-4f0c-8e80-36fe5fbbfb86</td>\n",
       "      <td>0.0008400336013440538</td>\n",
       "      <td>95cb467a-4887-4b11-8e8a-4d14a3acefc4</td>\n",
       "      <td>0.2369856212092412</td>\n",
       "    </tr>\n",
       "    <tr>\n",
       "      <th>5</th>\n",
       "      <td>eaf93658-511c-43de-8cfd-7f85e37d06eb</td>\n",
       "      <td>63</td>\n",
       "      <td>796ced28-1059-4c2d-a42f-d62028463f9a</td>\n",
       "      <td>0.0007600304012160486</td>\n",
       "      <td>5c6c859b-47d7-4095-80d2-cdd91a65be75</td>\n",
       "      <td>0.2369856212092412</td>\n",
       "    </tr>\n",
       "    <tr>\n",
       "      <th>6</th>\n",
       "      <td>19858632-a538-44f4-9062-aa6af347b691</td>\n",
       "      <td>60</td>\n",
       "      <td>f6bd8b64-684d-429a-aab5-8ff3a2c23cd6</td>\n",
       "      <td>0.0006800272010880435</td>\n",
       "      <td>11997fa1-0571-413a-bacd-4ae3162353dd</td>\n",
       "      <td>0.2369856212092412</td>\n",
       "    </tr>\n",
       "    <tr>\n",
       "      <th>7</th>\n",
       "      <td>69de0ae5-d873-417d-84d7-bf1e4ace6f54</td>\n",
       "      <td>56</td>\n",
       "      <td>b0c0cebf-991f-4f49-b4ea-46bd412caba9</td>\n",
       "      <td>0.0006800272010880435</td>\n",
       "      <td>004b7183-1fb5-4e08-b29a-87c679316171</td>\n",
       "      <td>0.2369856212092412</td>\n",
       "    </tr>\n",
       "    <tr>\n",
       "      <th>8</th>\n",
       "      <td>7d8be125-2c77-494e-b0b0-daecba38ecf2</td>\n",
       "      <td>54</td>\n",
       "      <td>2b6a3d0f-368f-45bb-be23-4e82f62fbbf7</td>\n",
       "      <td>0.0006800272010880435</td>\n",
       "      <td>b14e31c1-cbf2-4313-a88e-b9e31f99747e</td>\n",
       "      <td>0.15799046004718706</td>\n",
       "    </tr>\n",
       "    <tr>\n",
       "      <th>9</th>\n",
       "      <td>2c70bb04-9dac-4b32-9a4a-e8619ade312d</td>\n",
       "      <td>51</td>\n",
       "      <td>12f40b38-cd99-4801-8074-d765a29a2101</td>\n",
       "      <td>0.0006023770362579209</td>\n",
       "      <td>509625c3-0fcd-44fe-aaa9-5726ae9bb09c</td>\n",
       "      <td>0.11849396006262443</td>\n",
       "    </tr>\n",
       "  </tbody>\n",
       "</table>\n",
       "</div>"
      ],
      "text/plain": [
       "                                   Node  ...          Eigenvector\n",
       "0  d208a857-3da2-49ae-ada3-4a4d2c2083fd  ...   0.3159807823712953\n",
       "1  77117870-ada0-4fb8-b790-b2dae0b394f7  ...   0.3159807823712953\n",
       "2  0dde46d3-c56f-4862-8931-793ecb82df64  ...   0.2764831382257703\n",
       "3                                   nan  ...   0.2764831382257703\n",
       "4  e7d9127a-4593-4b8f-a650-7c4d42078d28  ...   0.2369856212092412\n",
       "5  eaf93658-511c-43de-8cfd-7f85e37d06eb  ...   0.2369856212092412\n",
       "6  19858632-a538-44f4-9062-aa6af347b691  ...   0.2369856212092412\n",
       "7  69de0ae5-d873-417d-84d7-bf1e4ace6f54  ...   0.2369856212092412\n",
       "8  7d8be125-2c77-494e-b0b0-daecba38ecf2  ...  0.15799046004718706\n",
       "9  2c70bb04-9dac-4b32-9a4a-e8619ade312d  ...  0.11849396006262443\n",
       "\n",
       "[10 rows x 6 columns]"
      ]
     },
     "execution_count": 51,
     "metadata": {
      "tags": []
     },
     "output_type": "execute_result"
    }
   ],
   "source": [
    "## get the top nodes\n",
    "top_deg = deg_list[0:10]\n",
    "top_closeness = closeness_list[0:10]\n",
    "top_eigenvector = eigenvector_list[0:10]\n",
    "\n",
    "## combine them together to make a comparison chart\n",
    "combine = np.hstack((top_deg, top_closeness, top_eigenvector))\n",
    "\n",
    "cent_measures=pd.DataFrame(combine, columns=['Node', 'Degree', 'Node', 'Closeness', 'Node', 'Eigenvector'])\n",
    "\n",
    "cent_measures"
   ]
  },
  {
   "cell_type": "code",
   "execution_count": 67,
   "metadata": {
    "colab": {
     "base_uri": "https://localhost:8080/",
     "height": 350
    },
    "executionInfo": {
     "elapsed": 1187,
     "status": "ok",
     "timestamp": 1626322435567,
     "user": {
      "displayName": "zy chen",
      "photoUrl": "",
      "userId": "07200917309806265149"
     },
     "user_tz": 240
    },
    "id": "VLcgwqvWMES7",
    "outputId": "fd719712-5dac-42df-9a1d-6a65bcf03603"
   },
   "outputs": [
    {
     "data": {
      "image/png": "[encoded data removed]",
      "text/plain": [
       "<Figure size 360x360 with 1 Axes>"
      ]
     },
     "metadata": {
      "needs_background": "light",
      "tags": []
     },
     "output_type": "display_data"
    }
   ],
   "source": [
    "# Top Influential id\n",
    "deg = nx.degree_centrality(Gsub)\n",
    "id = []\n",
    "centrality = []\n",
    "\n",
    "# Iterating\n",
    "for key, value in deg.items():\n",
    "    id.append(key)\n",
    "    centrality.append(value)\n",
    "\n",
    "deg = pd.DataFrame()\n",
    "deg['id'] = id\n",
    "deg['centrality'] = centrality\n",
    "deg = deg.sort_values(by= 'centrality', ascending=False)\n",
    "\n",
    "# Creating plot \n",
    "plt.figure(figsize=(5, 5))\n",
    "_ = sns.barplot(x='centrality', y='id', data=deg[:15], orient='h')\n",
    "_ = plt.xlabel('Degree Centrality')\n",
    "_ = plt.ylabel('Correspondent')\n",
    "_ = plt.title('Top 15 Degree Centrality Scores')\n",
    "plt.show()"
   ]
  },
  {
   "cell_type": "code",
   "execution_count": 70,
   "metadata": {
    "colab": {
     "base_uri": "https://localhost:8080/",
     "height": 350
    },
    "executionInfo": {
     "elapsed": 1079,
     "status": "ok",
     "timestamp": 1626323103686,
     "user": {
      "displayName": "zy chen",
      "photoUrl": "",
      "userId": "07200917309806265149"
     },
     "user_tz": 240
    },
    "id": "FgUCUdcWYeWy",
    "outputId": "c651190c-920a-4b2e-991c-8d515be4d59e"
   },
   "outputs": [
    {
     "data": {
      "image/png": "[encoded data removed]",
      "text/plain": [
       "<Figure size 360x360 with 1 Axes>"
      ]
     },
     "metadata": {
      "needs_background": "light",
      "tags": []
     },
     "output_type": "display_data"
    }
   ],
   "source": [
    "closeness_cen = nx.closeness_centrality(Gsub)\n",
    "id = []\n",
    "closeness = []\n",
    "\n",
    "for key, value in closeness_cen.items():\n",
    "    id.append(key)\n",
    "    closeness.append(value)\n",
    "\n",
    "clo = pd.DataFrame()\n",
    "clo['id'] = id\n",
    "clo['closeness'] = closeness\n",
    "clo = clo.sort_values(by='closeness', ascending=False)\n",
    "\n",
    "\n",
    "plt.figure(figsize=(5,5))\n",
    "_ = sns.barplot(x='closeness', y='id', data=clo[:15], orient='h')\n",
    "_ = plt.xlabel('Closeness of Centrality')\n",
    "_ = plt.ylabel('Correspondent')\n",
    "_ = plt.title('Top 15 Closeness of Centrality')\n",
    "plt.show()"
   ]
  },
  {
   "cell_type": "code",
   "execution_count": 72,
   "metadata": {
    "colab": {
     "base_uri": "https://localhost:8080/",
     "height": 350
    },
    "executionInfo": {
     "elapsed": 3316,
     "status": "ok",
     "timestamp": 1626323422660,
     "user": {
      "displayName": "zy chen",
      "photoUrl": "",
      "userId": "07200917309806265149"
     },
     "user_tz": 240
    },
    "id": "iWDPwwFBacbr",
    "outputId": "4ea63fcc-0767-4bb4-b4f8-4105532c8133"
   },
   "outputs": [
    {
     "data": {
      "image/png": "[encoded data removed]",
      "text/plain": [
       "<Figure size 360x360 with 1 Axes>"
      ]
     },
     "metadata": {
      "needs_background": "light",
      "tags": []
     },
     "output_type": "display_data"
    }
   ],
   "source": [
    "eigenvector_cen = nx.eigenvector_centrality(Gsub)\n",
    "id = []\n",
    "eigenvector = []\n",
    "\n",
    "for key, value in eigenvector_cen.items():\n",
    "    id.append(key)\n",
    "    eigenvector.append(value)\n",
    "\n",
    "eig = pd.DataFrame()\n",
    "eig['id'] = id\n",
    "eig['eigenvector'] = eigenvector\n",
    "eig = eig.sort_values(by='eigenvector', ascending=False)\n",
    "\n",
    "\n",
    "plt.figure(figsize=(5,5))\n",
    "_ = sns.barplot(x='eigenvector', y='id', data=eig[:15], orient='h')\n",
    "_ = plt.xlabel('Degree Eigenvector Centrality')\n",
    "_ = plt.ylabel('Correspondent')\n",
    "_ = plt.title('Top 15 Eigenvector Centrality Scores')\n",
    "plt.show()"
   ]
  }
 ],
 "metadata": {
  "colab": {
   "authorship_tag": "ABX9TyOqAS0pBO3+BZ19lrCWAEU4",
   "collapsed_sections": [],
   "name": "Academic_Citation_Graph_Data620final",
   "provenance": []
  },
  "kernelspec": {
   "display_name": "Python 3",
   "language": "python",
   "name": "python3"
  },
  "language_info": {
   "codemirror_mode": {
    "name": "ipython",
    "version": 3
   },
   "file_extension": ".py",
   "mimetype": "text/x-python",
   "name": "python",
   "nbconvert_exporter": "python",
   "pygments_lexer": "ipython3",
   "version": "3.8.5"
  }
 },
 "nbformat": 4,
 "nbformat_minor": 1
}
